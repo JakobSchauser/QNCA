{
  "cells": [
    {
      "cell_type": "markdown",
      "metadata": {
        "id": "view-in-github",
        "colab_type": "text"
      },
      "source": [
        "<a href=\"https://colab.research.google.com/github/JakobSchauser/QNCA/blob/main/QNCA.ipynb\" target=\"_parent\"><img src=\"https://colab.research.google.com/assets/colab-badge.svg\" alt=\"Open In Colab\"/></a>"
      ]
    },
    {
      "cell_type": "code",
      "execution_count": null,
      "metadata": {
        "colab": {
          "base_uri": "https://localhost:8080/"
        },
        "id": "qua7HiTG7QnW",
        "outputId": "82a8a6a6-a3f1-4c3d-cb84-c677abefb4e4"
      },
      "outputs": [
        {
          "output_type": "stream",
          "name": "stdout",
          "text": [
            "Requirement already satisfied: torch_geometric in /usr/local/lib/python3.12/dist-packages (2.6.1)\n",
            "Requirement already satisfied: aiohttp in /usr/local/lib/python3.12/dist-packages (from torch_geometric) (3.12.15)\n",
            "Requirement already satisfied: fsspec in /usr/local/lib/python3.12/dist-packages (from torch_geometric) (2025.3.0)\n",
            "Requirement already satisfied: jinja2 in /usr/local/lib/python3.12/dist-packages (from torch_geometric) (3.1.6)\n",
            "Requirement already satisfied: numpy in /usr/local/lib/python3.12/dist-packages (from torch_geometric) (2.0.2)\n",
            "Requirement already satisfied: psutil>=5.8.0 in /usr/local/lib/python3.12/dist-packages (from torch_geometric) (5.9.5)\n",
            "Requirement already satisfied: pyparsing in /usr/local/lib/python3.12/dist-packages (from torch_geometric) (3.2.3)\n",
            "Requirement already satisfied: requests in /usr/local/lib/python3.12/dist-packages (from torch_geometric) (2.32.4)\n",
            "Requirement already satisfied: tqdm in /usr/local/lib/python3.12/dist-packages (from torch_geometric) (4.67.1)\n",
            "Requirement already satisfied: aiohappyeyeballs>=2.5.0 in /usr/local/lib/python3.12/dist-packages (from aiohttp->torch_geometric) (2.6.1)\n",
            "Requirement already satisfied: aiosignal>=1.4.0 in /usr/local/lib/python3.12/dist-packages (from aiohttp->torch_geometric) (1.4.0)\n",
            "Requirement already satisfied: attrs>=17.3.0 in /usr/local/lib/python3.12/dist-packages (from aiohttp->torch_geometric) (25.3.0)\n",
            "Requirement already satisfied: frozenlist>=1.1.1 in /usr/local/lib/python3.12/dist-packages (from aiohttp->torch_geometric) (1.7.0)\n",
            "Requirement already satisfied: multidict<7.0,>=4.5 in /usr/local/lib/python3.12/dist-packages (from aiohttp->torch_geometric) (6.6.4)\n",
            "Requirement already satisfied: propcache>=0.2.0 in /usr/local/lib/python3.12/dist-packages (from aiohttp->torch_geometric) (0.3.2)\n",
            "Requirement already satisfied: yarl<2.0,>=1.17.0 in /usr/local/lib/python3.12/dist-packages (from aiohttp->torch_geometric) (1.20.1)\n",
            "Requirement already satisfied: MarkupSafe>=2.0 in /usr/local/lib/python3.12/dist-packages (from jinja2->torch_geometric) (3.0.2)\n",
            "Requirement already satisfied: charset_normalizer<4,>=2 in /usr/local/lib/python3.12/dist-packages (from requests->torch_geometric) (3.4.3)\n",
            "Requirement already satisfied: idna<4,>=2.5 in /usr/local/lib/python3.12/dist-packages (from requests->torch_geometric) (3.10)\n",
            "Requirement already satisfied: urllib3<3,>=1.21.1 in /usr/local/lib/python3.12/dist-packages (from requests->torch_geometric) (2.5.0)\n",
            "Requirement already satisfied: certifi>=2017.4.17 in /usr/local/lib/python3.12/dist-packages (from requests->torch_geometric) (2025.8.3)\n",
            "Requirement already satisfied: typing-extensions>=4.2 in /usr/local/lib/python3.12/dist-packages (from aiosignal>=1.4.0->aiohttp->torch_geometric) (4.15.0)\n"
          ]
        }
      ],
      "source": [
        "!pip install torch_geometric\n"
      ]
    },
    {
      "cell_type": "code",
      "execution_count": null,
      "metadata": {
        "colab": {
          "base_uri": "https://localhost:8080/"
        },
        "id": "wGi3g44g64Km",
        "outputId": "b49ff4ce-0188-4e0c-f0ae-702583034684"
      },
      "outputs": [
        {
          "output_type": "stream",
          "name": "stdout",
          "text": [
            "cpu\n"
          ]
        }
      ],
      "source": [
        "import torch\n",
        "from torch_geometric.data import Data\n",
        "import numpy as np\n",
        "\n",
        "\n",
        "usegpu = False\n",
        "\n",
        "device = torch.device('cuda' if torch.cuda.is_available() and usegpu else 'cpu')\n",
        "print(device)"
      ]
    },
    {
      "cell_type": "code",
      "execution_count": null,
      "metadata": {
        "id": "20r6t8NO753i"
      },
      "outputs": [],
      "source": [
        "from typing import Callable, Optional, Union\n",
        "\n",
        "import torch\n",
        "from torch import Tensor\n",
        "\n",
        "\n",
        "import torch_geometric.typing\n",
        "from typing import Tuple, Union\n",
        "from torch_geometric.nn.conv import MessagePassing\n",
        "from torch_geometric.nn.inits import reset\n",
        "from torch_geometric.utils import scatter\n",
        "\n",
        "from torch_geometric.typing import Adj, OptTensor, PairOptTensor, PairTensor, OptPairTensor, Size\n",
        "import torch.nn as nn\n",
        "from torch.nn import Linear\n",
        "import torch.nn.functional as F\n",
        "\n",
        "import matplotlib.pyplot as plt\n",
        "import inspect\n",
        "\n",
        "def print2(*msg):\n",
        "    frame = inspect.currentframe().f_back\n",
        "    print(f\"[LINE {frame.f_lineno}]\", *msg)\n",
        "\n",
        "\n",
        "class CustomEdgeConv(MessagePassing):\n",
        "    def __init__(self, in_features, hidden_dim, out_dim=3):\n",
        "        super().__init__(aggr=None)  # no aggregation, we just compute edge outputs\n",
        "        self.mlp = nn.Sequential(\n",
        "            nn.Linear(in_features, hidden_dim),\n",
        "            nn.ReLU(),\n",
        "            # nn.Linear(hidden_dim, hidden_dim),\n",
        "            # nn.ReLU(),\n",
        "            nn.Linear(hidden_dim, hidden_dim),\n",
        "            nn.ReLU(),\n",
        "            nn.Linear(hidden_dim, out_dim),\n",
        "            # nn.Tanh()\n",
        "        ).to(device)\n",
        "\n",
        "\n",
        "    def forward(self, x, edge_index):\n",
        "        # # Ensure undirected by sorting (min, max) node indices\n",
        "        # src, dst = edge_index\n",
        "        # undirected_edges = torch.stack([\n",
        "        #     torch.min(src, dst),\n",
        "        #     torch.max(src, dst)\n",
        "        # ], dim=0)\n",
        "\n",
        "        # # Remove duplicate edges\n",
        "        # undirected_edges, unique_idx = torch.unique(undirected_edges, dim=1, return_inverse=True)\n",
        "\n",
        "        # Build edge features: concat(node_u, node_v)\n",
        "        u, v = edge_index\n",
        "        # edge_feat = torch.cat([x[u], x[v]], dim=-1)\n",
        "        edge_feat = (x[u] - x[v])\n",
        "\n",
        "        # Predict 3 features per undirected edge\n",
        "        edge_out = self.mlp(edge_feat)  # [num_undirected_edges, out_dim]\n",
        "\n",
        "        # fixed_out = torch.empty_like(edge_out)\n",
        "\n",
        "        edge_out[:,0] = nn.Tanh()(edge_out[:,0])*2.*torch.pi\n",
        "        # normalize\n",
        "        magnitude = torch.linalg.norm(edge_out[:,1:], dim=1, keepdim=True) + 1e-11\n",
        "\n",
        "        # edge_out = edge_out / torch.cat( [torch.ones_like(edge_out[:,0][:,None], device = device), magnitude, magnitude], dim=1)\n",
        "\n",
        "\n",
        "        node_out = self.edge_out_to_node_out_avg(edge_out, edge_index)\n",
        "\n",
        "        return node_out # [num_nodes, out_dim]\n",
        "\n",
        "    def edge_out_to_node_out_directional(self, edge_out, edge_index, reduce='sum'):\n",
        "        u, v = edge_index  # u -> v (source -> target)\n",
        "\n",
        "        # Aggregate to target nodes (incoming edges)\n",
        "        node_out = scatter(edge_out, v, dim=0, dim_size=None, reduce=reduce)\n",
        "\n",
        "        return node_out\n",
        "\n",
        "\n",
        "    def edge_out_to_node_out_avg(self, edge_out, edge_index, reduce='sum'):\n",
        "        u, v = edge_index  # u -> v (source -> target)\n",
        "\n",
        "        # edge_out.shape [n_edge, out_dim]\n",
        "\n",
        "        # print2(edge_out[u == 0])\n",
        "        # print2(edge_out[v == 0])\n",
        "\n",
        "        # Aggregate to target nodes (incoming edges)\n",
        "        node_out1 = scatter(edge_out, u, dim=0, dim_size=None, reduce=reduce)\n",
        "        node_out2 = scatter(edge_out, v, dim=0, dim_size=None, reduce=reduce)\n",
        "\n",
        "        # print2(node_out1.shape) # [num_nodes, out_dim]\n",
        "        # print2(node_out1[0])\n",
        "        # print2(node_out2[0])\n",
        "\n",
        "        # print2((node_out1 - node_out2)[0])\n",
        "\n",
        "        return (node_out1 - node_out2)\n",
        "\n",
        "\n",
        "class CustomGraphConv(MessagePassing):\n",
        "    def __init__(\n",
        "        self,\n",
        "        in_channels: Union[int, Tuple[int, int]],\n",
        "        out_channels: int,\n",
        "        aggr: str = 'add',\n",
        "        bias: bool = True,\n",
        "        **kwargs,\n",
        "    ):\n",
        "        super().__init__(aggr=aggr, **kwargs)\n",
        "\n",
        "        self.in_channels = in_channels\n",
        "        self.out_channels = out_channels\n",
        "\n",
        "        if isinstance(in_channels, int):\n",
        "            in_channels = (in_channels, in_channels)\n",
        "\n",
        "        self.lin_rel = Linear(in_channels[0], out_channels, bias=bias)\n",
        "        self.lin_root = Linear(in_channels[1], out_channels, bias=False)\n",
        "\n",
        "        self.reset_parameters()\n",
        "\n",
        "    def reset_parameters(self):\n",
        "        super().reset_parameters()\n",
        "        self.lin_rel.reset_parameters()\n",
        "        self.lin_root.reset_parameters()\n",
        "\n",
        "\n",
        "    def forward(self, x: Union[Tensor, OptPairTensor], edge_index: Adj,\n",
        "                edge_weight: OptTensor = None, size: Size = None) -> Tensor:\n",
        "\n",
        "        if isinstance(x, Tensor):\n",
        "            x = (x, x)\n",
        "\n",
        "        out_1 = self.propagate(edge_index, x=x, edge_weight=edge_weight,\n",
        "                             size=size)\n",
        "\n",
        "        # print2(out_1.shape)  # [N_cells, 3]\n",
        "\n",
        "        out = self.lin_rel(out_1)\n",
        "\n",
        "        x_r = out_1\n",
        "\n",
        "        assert x_r is not None, \"x_r is None\"\n",
        "        # if x_r is not None:\n",
        "        out = out + self.lin_root(x_r)\n",
        "\n",
        "        return out\n",
        "\n",
        "    def message(self, x_i : Tensor, x_j :Tensor, edge_weight: OptTensor) -> Tensor:\n",
        "\n",
        "        x = (x_j - x_i)\n",
        "        # print2(x.shape) # [N_cells * N_nbs, 3])\n",
        "\n",
        "        return x if edge_weight is None else edge_weight.view(-1, 1) * x\n",
        "\n",
        "    # def aggregate(self, inputs, index, ptr=None, dim_size=None):\n",
        "    #     return inputs, index\n",
        "\n",
        "    # def message_and_aggregate(self, adj_t: Adj, x: OptPairTensor) -> Tensor:\n",
        "    #     return spmm(adj_t, x[0], reduce=self.aggr)\n",
        "\n",
        "\n",
        "class CustomGNN(torch.nn.Module):\n",
        "    def __init__(self, hidden_dims,):\n",
        "        super(CustomGNN, self).__init__()\n",
        "\n",
        "        if type(hidden_dims) is not list:\n",
        "            hidden_dims = [hidden_dims]\n",
        "\n",
        "\n",
        "        # NN = nn.Sequential(nn.Linear(2, 6), nn.ReLU(), nn.Linear(6, 6), nn.ReLU(), nn.Linear(6, hidden_dims[0]))\n",
        "\n",
        "        # convolutional layer\n",
        "        # self.input_layer = CustomEdgeConv(NN)\n",
        "        self.input_layer = CustomGraphConv(3, hidden_dims[0])\n",
        "\n",
        "        self.hidden_layers = torch.nn.ModuleList()\n",
        "        self.activation_func = F.relu\n",
        "\n",
        "        for i in range(len(hidden_dims)-1):\n",
        "            _in = hidden_dims[i]\n",
        "            _out = hidden_dims[i+1]\n",
        "\n",
        "            self.hidden_layers.append(Linear(_in, _out))\n",
        "\n",
        "        self.output_layer = Linear(hidden_dims[-1], 3, bias = True)\n",
        "\n",
        "\n",
        "    def forward(self, feature_data, edge_info):\n",
        "        x = self.input_layer(feature_data, edge_info)\n",
        "\n",
        "\n",
        "        for layer in self.hidden_layers:\n",
        "            x = layer(x)\n",
        "            x = self.activation_func(x)  # Apply activation function to each hidden layer output\n",
        "\n",
        "        x = self.output_layer(x, )\n",
        "\n",
        "        return x\n",
        "\n",
        "hidden_dims = [16, 16, 16]  # Hidden dimensions\n",
        "\n",
        "# Initialize the CustomGNN model\n",
        "# model = CustomGNN(hidden_dims)\n",
        "model = CustomEdgeConv(3, 16, 3)\n",
        "\n",
        "model = model.to(device)"
      ]
    },
    {
      "cell_type": "code",
      "execution_count": null,
      "metadata": {
        "colab": {
          "base_uri": "https://localhost:8080/"
        },
        "id": "HVlMhM1QEeHt",
        "outputId": "eee5bb73-ecbf-43e3-868c-c0823f399f8b"
      },
      "outputs": [
        {
          "output_type": "stream",
          "name": "stdout",
          "text": [
            "[LINE 112] torch.Size([315, 1]) torch.Size([315, 2])\n",
            "[LINE 116] torch.Size([315, 3])\n"
          ]
        }
      ],
      "source": [
        "import torch\n",
        "from torch_geometric.data import Data\n",
        "# from torch_geometric.nn import knn_graph\n",
        "from torch.nn.functional import pairwise_distance\n",
        "from torch_geometric.utils import to_undirected\n",
        "import random\n",
        "import math\n",
        "# Define a grid of agents\n",
        "# grid_size = 10\n",
        "# x = torch.linspace(0, grid_size, steps=10)\n",
        "# y = torch.linspace(0, grid_size, steps=10)\n",
        "\n",
        "# uniform within circle\n",
        "\n",
        "\n",
        "def poisson_disk_sampling(radius=0.1, k=30, circle_radius=1.0):\n",
        "    \"\"\"\n",
        "    Generates a set of points using Poisson Disk Sampling within a circle.\n",
        "\n",
        "    Args:\n",
        "        radius (float): Minimum distance between points.\n",
        "        k (int): Number of attempts to find a new point around a sample.\n",
        "        circle_radius (float): Radius of the circular sampling area.\n",
        "\n",
        "    Returns:\n",
        "        tuple: A tuple containing:\n",
        "            - positions (torch.Tensor): Tensor of shape [num_agents, 2] with sampled positions.\n",
        "            - num_agents (int): The number of sampled agents.\n",
        "    \"\"\"\n",
        "    cell_size = radius / math.sqrt(2)\n",
        "    grid_size = math.ceil(2 * circle_radius / cell_size)\n",
        "    grid = [[None for _ in range(grid_size)] for _ in range(grid_size)]\n",
        "    center_offset = torch.tensor([circle_radius, circle_radius], device=device)\n",
        "\n",
        "    def is_in_circle(point, r):\n",
        "        return (point[0]**2 + point[1]**2) <= r**2\n",
        "\n",
        "    def get_grid_coords(point):\n",
        "        grid_x = int((point[0] + circle_radius) / cell_size)\n",
        "        grid_y = int((point[1] + circle_radius) / cell_size)\n",
        "        return grid_x, grid_y\n",
        "\n",
        "    # Start with a random initial point within the circle\n",
        "    while True:\n",
        "      start_x = 2 * circle_radius * random.random() - circle_radius\n",
        "      start_y = 2 * circle_radius * random.random() - circle_radius\n",
        "      start_point = (start_x, start_y)\n",
        "      if is_in_circle(start_point, circle_radius):\n",
        "        break\n",
        "\n",
        "    active_list = [start_point]\n",
        "    sample_points = [start_point]\n",
        "    grid_x, grid_y = get_grid_coords(start_point)\n",
        "    if 0 <= grid_x < grid_size and 0 <= grid_y < grid_size:\n",
        "        grid[grid_x][grid_y] = start_point\n",
        "\n",
        "\n",
        "    while active_list:\n",
        "        p = active_list.pop(random.randrange(len(active_list)))\n",
        "\n",
        "        for _ in range(k):\n",
        "            # Generate a random point in an annulus around p\n",
        "            angle = 2 * math.pi * random.random()\n",
        "            r = radius * (random.random() + 1)\n",
        "            new_x = p[0] + r * math.cos(angle)\n",
        "            new_y = p[1] + r * math.sin(angle)\n",
        "            new_point = (new_x, new_y)\n",
        "\n",
        "            # Check if the new point is within bounds and the circle\n",
        "            if is_in_circle(new_point, circle_radius):\n",
        "                grid_x, grid_y = get_grid_coords(new_point)\n",
        "\n",
        "                # Check if the new point is too close to existing points in the neighborhood\n",
        "                is_valid = True\n",
        "                for i in range(max(0, grid_x - 2), min(grid_size, grid_x + 3)):\n",
        "                    for j in range(max(0, grid_y - 2), min(grid_size, grid_y + 3)):\n",
        "                        if grid[i][j] is not None:\n",
        "                            dist = math.dist(new_point, grid[i][j])\n",
        "                            if dist < radius:\n",
        "                                is_valid = False\n",
        "                                break\n",
        "                    if not is_valid:\n",
        "                        break\n",
        "\n",
        "                # If valid, add to samples and active list\n",
        "                if is_valid:\n",
        "                    active_list.append(new_point)\n",
        "                    sample_points.append(new_point)\n",
        "                    if 0 <= grid_x < grid_size and 0 <= grid_y < grid_size:\n",
        "                        grid[grid_x][grid_y] = new_point\n",
        "\n",
        "    positions = torch.tensor(sample_points, dtype=torch.float32, device=device)\n",
        "    num_agents = positions.shape[0]\n",
        "\n",
        "    return positions, num_agents\n",
        "\n",
        "positions, num_agents = poisson_disk_sampling(circle_radius=2.5, radius=0.2)\n",
        "\n",
        "# for _ in range(num_agents):\n",
        "#     theta = 2 * torch.pi * torch.rand(1)\n",
        "#     r = torch.rand(1)**0.5 * int(np.sqrt(float(num_agents)/torch.pi**2)) * 0.25\n",
        "#     x.append(r * torch.cos(theta))\n",
        "#     y.append(r * torch.sin(theta))\n",
        "\n",
        "# x = torch.tensor(x, device = device)\n",
        "# y = torch.tensor(y, device = device)\n",
        "\n",
        "# positions = torch.stack((x,y), dim=-1).view(-1, 2)\n",
        "\n",
        "angle_feature_data = 2 * torch.pi * torch.rand(num_agents, 1, device = device)\n",
        "\n",
        "print2(angle_feature_data.shape, positions.shape)\n",
        "feature_data = torch.cat([angle_feature_data, positions[:,0].unsqueeze(1), positions[:,1].unsqueeze(1),], dim=1)\n",
        "\n",
        "feature_data = feature_data.to(device)\n",
        "print2(feature_data.shape)\n",
        "\n",
        "\n",
        "# Define the graph using k-NN (manual implementation)\n",
        "\n",
        "\n",
        "def knn_with_cutoff(x, k=8, cutoff=1.0, self_loops=False):\n",
        "    N, D = x.shape\n",
        "\n",
        "    # pairwise squared distances\n",
        "    dist2 = torch.cdist(x, x, p=2) ** 2\n",
        "\n",
        "    # mask self-distances (unless self_loops=True)\n",
        "    if not self_loops:\n",
        "        dist2.fill_diagonal_(float(\"inf\"))\n",
        "\n",
        "    # get k nearest neighbors\n",
        "    dist, idx = torch.topk(dist2, k, largest=False)\n",
        "\n",
        "    # cutoff mask\n",
        "    mask = dist <= cutoff**2\n",
        "\n",
        "    # source nodes (repeat each index k times)\n",
        "    row = torch.arange(N, device=x.device).repeat_interleave(k)\n",
        "    col = idx.reshape(-1)\n",
        "    mask_flat = mask.reshape(-1)\n",
        "\n",
        "    # # apply cutoff mask\n",
        "    row = row[mask_flat]\n",
        "    col = col[mask_flat]\n",
        "\n",
        "    edge_index = torch.stack([row, col], dim=0)\n",
        "\n",
        "    edge_index = to_undirected(edge_index, num_nodes=N)\n",
        "\n",
        "    return edge_index\n",
        "\n",
        "from torch_geometric.utils import to_undirected\n",
        "from scipy.spatial import Delaunay\n",
        "\n",
        "def voronoi_neighbohrs(x, cutoff=None):\n",
        "    \"\"\"\n",
        "    Construct Voronoi neighbors (dual of Delaunay triangulation).\n",
        "\n",
        "    x: [N, D] torch.Tensor of point coordinates (D must be 2 or 3 typically)\n",
        "    cutoff: optional float, only keep edges <= cutoff distance\n",
        "\n",
        "    Returns:\n",
        "        edge_index: [2, E] tensor of undirected edges\n",
        "    \"\"\"\n",
        "    X = x.detach().cpu().numpy()\n",
        "    N, D = X.shape\n",
        "\n",
        "    if D < 2:\n",
        "        raise ValueError(\"Voronoi neighbors require at least 2D points\")\n",
        "\n",
        "    # Compute Delaunay triangulation\n",
        "    tri = Delaunay(X)\n",
        "\n",
        "    # Collect edges from simplices\n",
        "    edges = set()\n",
        "    for simplex in tri.simplices:\n",
        "        for i in range(len(simplex)):\n",
        "            for j in range(i+1, len(simplex)):\n",
        "                a, b = simplex[i], simplex[j]\n",
        "                edges.add((a, b))\n",
        "                edges.add((b, a))\n",
        "\n",
        "    edges = np.array(list(edges)).T  # [2, E]\n",
        "    edge_index = torch.tensor(edges, dtype=torch.long, device = device)\n",
        "\n",
        "    # Make undirected (removes duplicate pairs)\n",
        "    edge_index = to_undirected(edge_index, num_nodes=N)\n",
        "\n",
        "    # Apply cutoff if requested\n",
        "    if cutoff is not None:\n",
        "        src, dst = edge_index\n",
        "        dists = torch.norm(x[src] - x[dst], dim=1)\n",
        "        mask = dists <= cutoff\n",
        "        edge_index = edge_index[:, mask]\n",
        "\n",
        "    return edge_index\n",
        "\n",
        "# update_edge_index = lambda x: knn_with_cutoff(x, k=10, cutoff=5.0)\n",
        "update_edge_index = lambda x: voronoi_neighbohrs(x, cutoff=5.0)\n",
        "\n",
        "edge_index = update_edge_index(positions)"
      ]
    },
    {
      "cell_type": "code",
      "execution_count": null,
      "metadata": {
        "colab": {
          "base_uri": "https://localhost:8080/",
          "height": 447
        },
        "id": "zTJZou6jI5si",
        "outputId": "87b03c77-8a6f-400b-8b40-9f0392847804"
      },
      "outputs": [
        {
          "output_type": "execute_result",
          "data": {
            "text/plain": [
              "<matplotlib.collections.PathCollection at 0x7b11d6f08290>"
            ]
          },
          "metadata": {},
          "execution_count": 49
        },
        {
          "output_type": "display_data",
          "data": {
            "text/plain": [
              "<Figure size 640x480 with 1 Axes>"
            ],
            "image/png": "[encoded data removed]"
          },
          "metadata": {}
        }
      ],
      "source": [
        "plt.scatter(positions[:,0], positions[:,1])"
      ]
    },
    {
      "cell_type": "code",
      "execution_count": null,
      "metadata": {
        "colab": {
          "base_uri": "https://localhost:8080/"
        },
        "id": "0de0a93f",
        "outputId": "81b8393d-56dc-49e7-9fe9-2ac1b5d6e7b3"
      },
      "outputs": [
        {
          "output_type": "execute_result",
          "data": {
            "text/plain": [
              "315"
            ]
          },
          "metadata": {},
          "execution_count": 50
        }
      ],
      "source": [
        "num_agents"
      ]
    },
    {
      "cell_type": "code",
      "execution_count": null,
      "metadata": {
        "colab": {
          "base_uri": "https://localhost:8080/"
        },
        "id": "3bJih5s8oPjW",
        "outputId": "23d655c5-53db-4004-ad29-03673be70bff"
      },
      "outputs": [
        {
          "output_type": "execute_result",
          "data": {
            "text/plain": [
              "tensor([6, 6])"
            ]
          },
          "metadata": {},
          "execution_count": 51
        }
      ],
      "source": [
        "(edge_index == 21).sum(axis = 1)"
      ]
    },
    {
      "cell_type": "markdown",
      "metadata": {
        "id": "b7f479a7"
      },
      "source": [
        "# Task\n",
        "Create a Python class that trains agents to align their \"feature data\" using a custom GNN with a k-nearest neighbors (KNN) graph, allowing for the use of different KNN implementations."
      ]
    },
    {
      "cell_type": "code",
      "execution_count": null,
      "metadata": {
        "colab": {
          "base_uri": "https://localhost:8080/"
        },
        "id": "3YsrAU2m2uj2",
        "outputId": "0dfa3e48-1691-4ea0-89f7-a36d7383225d"
      },
      "outputs": [
        {
          "output_type": "execute_result",
          "data": {
            "text/plain": [
              "tensor([[  0,   0,   0,  ..., 314, 314, 314],\n",
              "        [  1,   2,   3,  ..., 311, 312, 313]])"
            ]
          },
          "metadata": {},
          "execution_count": 52
        }
      ],
      "source": [
        "edge_index"
      ]
    },
    {
      "cell_type": "code",
      "execution_count": null,
      "metadata": {
        "id": "ctE3KyaUabz8"
      },
      "outputs": [],
      "source": [
        "input_features = 3\n",
        "model = CustomEdgeConv(input_features, 16)\n",
        "x = torch.randn(num_agents, input_features, device = device)  # node embeddings\n",
        "\n",
        "out = model(x, edge_index)"
      ]
    },
    {
      "cell_type": "code",
      "execution_count": null,
      "metadata": {
        "colab": {
          "base_uri": "https://localhost:8080/"
        },
        "id": "oZhMz93obETY",
        "outputId": "75a533db-2728-44f5-e18a-dcb6ac007151"
      },
      "outputs": [
        {
          "output_type": "execute_result",
          "data": {
            "text/plain": [
              "torch.Size([315, 3])"
            ]
          },
          "metadata": {},
          "execution_count": 54
        }
      ],
      "source": [
        "out.shape"
      ]
    },
    {
      "cell_type": "code",
      "execution_count": null,
      "metadata": {
        "colab": {
          "base_uri": "https://localhost:8080/"
        },
        "id": "3XcfrK8raqyF",
        "outputId": "e38f2c3e-06d2-4dd7-baa7-11cf573694fe"
      },
      "outputs": [
        {
          "output_type": "execute_result",
          "data": {
            "text/plain": [
              "torch.Size([2, 1824])"
            ]
          },
          "metadata": {},
          "execution_count": 55
        }
      ],
      "source": [
        "edge_index.shape"
      ]
    },
    {
      "cell_type": "code",
      "execution_count": null,
      "metadata": {
        "id": "5705b41b"
      },
      "outputs": [],
      "source": [
        "def alignment_loss(output, edge_index):\n",
        "    # Extract source and target node features\n",
        "    source_nodes = edge_index[0]\n",
        "    target_nodes = edge_index[1]\n",
        "    source_features = output[source_nodes]\n",
        "    target_features = output[target_nodes]\n",
        "\n",
        "    # print2(target_features.shape) # shape [ncells * n_nbs, n_features]\n",
        "    # Calculate mean squared error between connected nodes\n",
        "    loss = F.mse_loss(source_features[:,0], target_features[:,0])\n",
        "    return loss\n",
        "\n",
        "\n",
        "def width_loss(output, edge_index):\n",
        "    # Extract source and target node features\n",
        "    source_nodes = edge_index[0]\n",
        "    target_nodes = edge_index[1]\n",
        "    source_features = output[source_nodes]\n",
        "    target_features = output[target_nodes]\n",
        "\n",
        "    maxx = torch.max(source_features[:,1])\n",
        "    minx = torch.min(source_features[:,1])\n",
        "    # print2(target_features.shape) # shape [ncells * n_nbs, n_features]\n",
        "    # Calculate mean squared error between connected nodes\n",
        "    loss = maxx - minx\n",
        "    return -loss\n",
        "\n",
        "\n",
        "\n",
        "def height_loss(output, edge_index):\n",
        "    # Extract source and target node features\n",
        "    source_nodes = edge_index[0]\n",
        "    target_nodes = edge_index[1]\n",
        "    source_features = output[source_nodes]\n",
        "    target_features = output[target_nodes]\n",
        "\n",
        "    maxy = torch.max(source_features[:,2])\n",
        "    miny = torch.min(source_features[:,2])\n",
        "    # print2(target_features.shape) # shape [ncells * n_nbs, n_features]\n",
        "    # Calculate mean squared error between connected nodes\n",
        "    loss = maxy - miny\n",
        "    return loss\n",
        "\n",
        "def extend_loss(current_feature_data, edge_index):\n",
        "    # Extract source and target node features\n",
        "    # source_nodes = edge_index[0]\n",
        "    # source_features = current_feature_data[source_nodes]\n",
        "    X = current_feature_data[:, 1:]                          # [N, D]\n",
        "\n",
        "    # Full pairwise Euclidean distances: [N, N]\n",
        "    dists = torch.cdist(X, X, p=2)\n",
        "\n",
        "    # find median distance between any two\n",
        "    median_dist = -torch.max(dists)\n",
        "\n",
        "\n",
        "    return median_dist\n",
        "\n",
        "\n",
        "\n",
        "def dist_loss(output, edge_index):\n",
        "    # Extract source and target node features\n",
        "    source_nodes = edge_index[0]\n",
        "    target_nodes = edge_index[1]\n",
        "    source_features = output[source_nodes]\n",
        "    target_features = output[target_nodes]\n",
        "\n",
        "    source_positions = source_features[:,1:]\n",
        "    target_positions = target_features[:,1:]\n",
        "\n",
        "    X = source_features[:, 1:]                          # [N, D]\n",
        "    Y = target_features[:, 1:]                          # [N, D]\n",
        "\n",
        "\n",
        "    # Full pairwise Euclidean distances: [N, N]\n",
        "    dists = torch.linalg.norm(X - Y, dim = 1)\n",
        "\n",
        "\n",
        "    # dists = torch.minimum(dists, torch.ones_like(dists)*0.2)\n",
        "\n",
        "    # find median distance between any two\n",
        "    median_dist = -torch.mean(dists)\n",
        "\n",
        "\n",
        "    return median_dist\n",
        "\n",
        "def uniform_loss(output, edge_index):\n",
        "    # Extract source and target node features\n",
        "    source_nodes = edge_index[0]\n",
        "    target_nodes = edge_index[1]\n",
        "    source_features = output[source_nodes]\n",
        "    target_features = output[target_nodes]\n",
        "\n",
        "    dists = torch.linalg.norm(source_features[:,1:] - target_features[:,1:], dim = 1)\n",
        "\n",
        "    offdists = dists - 0.5\n",
        "\n",
        "    whenzero = (offdists < 0. + 1.0)\n",
        "    how_far_from_uniform = torch.abs(offdists*whenzero).mean()\n",
        "\n",
        "\n",
        "\n",
        "    return how_far_from_uniform\n",
        "\n",
        "\n",
        "def get_slice_area(a, b, theta):\n",
        "    assert all(theta != torch.pi), \"No right angles, please\"\n",
        "\n",
        "    h = b*torch.sin(theta)\n",
        "\n",
        "    denom = (a-b/(torch.cos(theta) + 1e-10))\n",
        "    assert not torch.isnan(denom).any(), \"NaNs in denom\"\n",
        "\n",
        "    k = (a-b*torch.cos(theta))/ (denom + 1e-10)\n",
        "\n",
        "    A = 1/2*h*(b*torch.sin(theta)  + h*torch.tan(theta) - k*k)\n",
        "\n",
        "    assert not torch.isnan(A).any(), \"NaNs in A\"\n",
        "    return A\n",
        "\n",
        "\n",
        "def subtract_two_angles(angle1, angle2):\n",
        "    return (angle1 - angle2 + torch.pi) % (2 * torch.pi) - torch.pi\n",
        "\n",
        "def area_loss(output, edge_index):\n",
        "    # Extract source and target node features\n",
        "    source_nodes = edge_index[0]\n",
        "    target_nodes = edge_index[1]\n",
        "    source_features = output[source_nodes]\n",
        "    target_features = output[target_nodes]\n",
        "\n",
        "    positions    = source_features[:,1:]\n",
        "\n",
        "    nb_positions = target_features[:,1:]\n",
        "\n",
        "    # any nans?\n",
        "    assert not torch.isnan(positions).any(), \"NaNs in positions\"\n",
        "    assert not torch.isnan(nb_positions).any(), \"NaNs in nb_positions\"\n",
        "\n",
        "    midpoints = (positions + nb_positions) / 2.\n",
        "\n",
        "\n",
        "    local_midpoints = midpoints - positions\n",
        "\n",
        "    # any_nans?\n",
        "    assert not torch.isnan(local_midpoints).any(), \"NaNs in local_midpoints\"\n",
        "\n",
        "    dists = torch.linalg.norm(local_midpoints, dim=1)\n",
        "\n",
        "    angles = torch.atan2(local_midpoints[:,1], local_midpoints[:,0])\n",
        "\n",
        "\n",
        "    dists_reshaped = dists.view(7,100)\n",
        "    angles_reshaped = angles.view(7,100)\n",
        "\n",
        "    # any nans?\n",
        "    assert not torch.isnan(dists_reshaped).any(), \"NaNs in dists\"\n",
        "    assert not torch.isnan(angles_reshaped).any(), \"NaNs in angles\"\n",
        "\n",
        "    slice_area0 = get_slice_area(dists_reshaped[0], dists_reshaped[1], subtract_two_angles(angles_reshaped[1], angles_reshaped[0]))\n",
        "    slice_area1 = get_slice_area(dists_reshaped[1], dists_reshaped[2], subtract_two_angles(angles_reshaped[2], angles_reshaped[1]))\n",
        "    slice_area2 = get_slice_area(dists_reshaped[2], dists_reshaped[3], subtract_two_angles(angles_reshaped[3], angles_reshaped[2]))\n",
        "    slice_area3 = get_slice_area(dists_reshaped[3], dists_reshaped[4], subtract_two_angles(angles_reshaped[4], angles_reshaped[3]))\n",
        "    slice_area4 = get_slice_area(dists_reshaped[4], dists_reshaped[5], subtract_two_angles(angles_reshaped[5], angles_reshaped[4]))\n",
        "    slice_area5 = get_slice_area(dists_reshaped[5], dists_reshaped[6], subtract_two_angles(angles_reshaped[6], angles_reshaped[5]))\n",
        "    slice_area6 = get_slice_area(dists_reshaped[6], dists_reshaped[0], subtract_two_angles(angles_reshaped[0], angles_reshaped[6]))\n",
        "\n",
        "    slice_areas = torch.stack([slice_area0, slice_area1, slice_area2, slice_area3, slice_area4, slice_area5, slice_area6], dim=1)\n",
        "    areas = torch.sum(slice_areas, dim=1)\n",
        "\n",
        "    # any nan?\n",
        "    assert not torch.isnan(areas).any(), \"NaNs in areas\"\n",
        "\n",
        "    loss = -torch.mean(areas)\n",
        "\n",
        "    # any nans?\n",
        "    assert not torch.isnan(loss).any(), \"NaNs in loss\"\n",
        "\n",
        "    return loss\n",
        "    # print2(dists.shape)\n",
        "\n",
        "\n",
        "\n",
        "\n",
        "def dumb_donut(output, edge_index):\n",
        "        # Extract source and target node features\n",
        "    source_nodes = edge_index[0]\n",
        "    target_nodes = edge_index[1]\n",
        "    source_features = output[source_nodes]\n",
        "    target_features = output[target_nodes]\n",
        "\n",
        "    positions = output[:,1:]\n",
        "\n",
        "    loss = torch.tensor([0.], requires_grad=True)\n",
        "    # make sure noone is within 5 of the origin\n",
        "    center_of_mass = torch.mean(positions, dim = 0)\n",
        "\n",
        "    dist_from_origin = torch.linalg.norm(positions - center_of_mass, dim = 1)\n",
        "\n",
        "    loss = (torch.tanh(dist_from_origin*2. - 8.) - torch.tanh(dist_from_origin*2. - 4.)).sum()\n",
        "    # make sure everyone is far away from their nbs\n",
        "\n",
        "    # dists = torch.linalg.norm(source_features[:,1:] - target_features[:,1:], dim = 1)\n",
        "\n",
        "    # loss -= torch.sum(dists)*0.01\n",
        "\n",
        "    return loss\n",
        "\n",
        "\n",
        "\n"
      ]
    },
    {
      "cell_type": "code",
      "execution_count": null,
      "metadata": {
        "id": "34cf26f9"
      },
      "outputs": [],
      "source": []
    },
    {
      "cell_type": "markdown",
      "metadata": {
        "id": "ba13d774"
      },
      "source": [
        "## Implement the nca update rule\n",
        "\n",
        "### Subtask:\n",
        "Define a function that updates the agent's features based on the model's delta output and potentially a learning rate or other update parameters.\n"
      ]
    },
    {
      "cell_type": "code",
      "execution_count": null,
      "metadata": {
        "id": "f71151c5"
      },
      "outputs": [],
      "source": [
        "def nca_update(feature_data, delta_output, learning_rate):\n",
        "    \"\"\"\n",
        "    Updates agent features based on the model's delta output using NCA rules.\n",
        "\n",
        "    Args:\n",
        "        feature_data (torch.Tensor): The current feature data of the agents.\n",
        "        delta_output (torch.Tensor): The delta output from the CustomGNN model.\n",
        "        learning_rate (float): The learning rate for updating features.\n",
        "\n",
        "    Returns:\n",
        "        torch.Tensor: The updated feature data, wrapped to [0, 2*pi].\n",
        "    \"\"\"\n",
        "    updated_feature_data = feature_data + delta_output * learning_rate\n",
        "    # Wrap the feature data to be within [0, 2*pi]\n",
        "    updated_feature_data[:,0] = updated_feature_data[:,0] % (2. * torch.pi)\n",
        "\n",
        "    return updated_feature_data\n",
        "\n",
        "def nca_update_angles(feature_data, delta_output, learning_rate):\n",
        "    \"\"\"\n",
        "    Updates agent features based on the model's delta output using NCA rules.\n",
        "\n",
        "    Args:\n",
        "        feature_data (torch.Tensor): The current feature data of the agents.\n",
        "        delta_output (torch.Tensor): The delta output from the CustomGNN model.\n",
        "        learning_rate (float): The learning rate for updating features.\n",
        "\n",
        "    Returns:\n",
        "        torch.Tensor: The updated feature data, wrapped to [0, 2*pi].\n",
        "    \"\"\"\n",
        "\n",
        "    delta_output[:,1:] = 0.\n",
        "\n",
        "    updated_feature_data = feature_data + delta_output * learning_rate\n",
        "    # Wrap the feature data to be within [0, 2*pi]\n",
        "\n",
        "    updated_feature_data[:,0] = updated_feature_data[:,0] % (2. * torch.pi)\n",
        "\n",
        "    return updated_feature_data"
      ]
    },
    {
      "cell_type": "markdown",
      "metadata": {
        "id": "317ca089"
      },
      "source": [
        "## Modify the training loop for nca\n",
        "\n",
        "### Subtask:\n",
        "Create a training loop that simulates multiple NCA steps within each epoch. In each epoch, perform several forward passes of the GNN, apply the update rule, and calculate the loss based on the alignment of features *after* these update steps.\n"
      ]
    },
    {
      "cell_type": "markdown",
      "metadata": {
        "id": "b2f0054a"
      },
      "source": [
        "**Reasoning**:\n",
        "Implement the training loop with multiple NCA steps per epoch as described in the instructions.\n",
        "\n"
      ]
    },
    {
      "cell_type": "code",
      "execution_count": null,
      "metadata": {
        "colab": {
          "base_uri": "https://localhost:8080/"
        },
        "id": "_DXjI11sbdii",
        "outputId": "37333ab1-e11e-415d-bcac-ae46ac7b7eef"
      },
      "outputs": [
        {
          "output_type": "execute_result",
          "data": {
            "text/plain": [
              "5050.0"
            ]
          },
          "metadata": {},
          "execution_count": 58
        }
      ],
      "source": [
        "# delta_output = model(current_feature_data, edge_index)\n",
        "# delta_output\n",
        "0.5*(100*101)"
      ]
    },
    {
      "cell_type": "code",
      "execution_count": null,
      "metadata": {
        "colab": {
          "base_uri": "https://localhost:8080/"
        },
        "id": "d202b715",
        "outputId": "45588bf1-6d95-43c0-df73-0fc9f78fadf7"
      },
      "outputs": [
        {
          "output_type": "stream",
          "name": "stdout",
          "text": [
            "Epoch [100/2000], Loss: -445.3883\n",
            "Epoch [200/2000], Loss: -424.5330\n",
            "Epoch [300/2000], Loss: -464.1663\n",
            "Epoch [400/2000], Loss: -489.8672\n",
            "Epoch [500/2000], Loss: -452.6693\n",
            "Epoch [600/2000], Loss: -447.7416\n",
            "Epoch [700/2000], Loss: -404.4785\n",
            "Epoch [800/2000], Loss: -499.4434\n",
            "Epoch [900/2000], Loss: -399.7509\n",
            "Epoch [1000/2000], Loss: -321.2569\n",
            "Epoch [1100/2000], Loss: -498.4994\n",
            "Epoch [1200/2000], Loss: -454.6818\n",
            "Epoch [1300/2000], Loss: -468.9149\n",
            "Epoch [1400/2000], Loss: -479.5870\n",
            "Epoch [1500/2000], Loss: -504.5759\n",
            "Epoch [1600/2000], Loss: -452.8881\n",
            "Epoch [1700/2000], Loss: -496.5730\n",
            "Epoch [1800/2000], Loss: -503.3981\n",
            "Epoch [1900/2000], Loss: -459.1251\n",
            "Epoch [2000/2000], Loss: -497.0392\n"
          ]
        }
      ],
      "source": [
        "from torch import optim\n",
        "\n",
        "optimizer = optim.Adam(model.parameters(), lr=0.00001)\n",
        "\n",
        "\n",
        "nca_steps = 150  # Number of NCA steps per epoch\n",
        "nca_learning_rate = 0.01 # Learning rate for the NCA update\n",
        "\n",
        "num_epochs = 2000\n",
        "\n",
        "\n",
        "\n",
        "for epoch in range(num_epochs):\n",
        "    model.train()\n",
        "\n",
        "    current_feature_data = feature_data.clone().detach().requires_grad_(True) # Start with the initial features for each epoch\n",
        "\n",
        "    # total_loss = torch.tensor([0.], requires_grad=True) # Initialize total loss for the epoch\n",
        "    n_times_run = 1\n",
        "    for _ in range(n_times_run):\n",
        "        current_feature_data = current_feature_data.clone().detach().requires_grad_(True)\n",
        "        optimizer.zero_grad()\n",
        "        for step in range(nca_steps):\n",
        "            # No need to detach and require_grad_ here if we want gradients to flow back\n",
        "            # current_feature_data = current_feature_data.clone().detach().requires_grad_(True)\n",
        "\n",
        "            delta_output = model(current_feature_data, edge_index)\n",
        "            # any nans\n",
        "            assert not torch.isnan(delta_output).any(), f\"NaNs in delta_output at epoch {epoch}, step {step}\"\n",
        "            # print2(delta_output.shape)\n",
        "\n",
        "            # Update feature data\n",
        "            # This update needs to be part of the computation graph if we want to backpropagate through it\n",
        "            current_feature_data = nca_update(current_feature_data, delta_output, nca_learning_rate)\n",
        "\n",
        "            # Detaching here is necessary because we don't want to backpropagate through the k-NN calculation\n",
        "            if (step+1) % 5 == 0:\n",
        "                edge_index = update_edge_index(current_feature_data[:,1:].detach())\n",
        "\n",
        "        # Calculate loss and perform optimizer step at the end of NCA steps if step_every_step is False  extend_loss(current_feature_data, edge_index) +\n",
        "        # total_loss = torch.tensor([0.], requires_grad=True)# dist_loss(current_feature_data, edge_index)*50. + uniform_loss(current_feature_data, edge_index)*100\n",
        "        total_loss =  dumb_donut(current_feature_data, edge_index) #+ dist_loss(current_feature_data, edge_index)\n",
        "        total_loss.backward()\n",
        "        optimizer.step()\n",
        "\n",
        "\n",
        "        if (epoch + 1) % 100 == 0:\n",
        "            # Print the average loss if accumulating per step, otherwise print the final loss\n",
        "            print(f'Epoch [{epoch+1}/{num_epochs}], Loss: {total_loss.item():.4f}')"
      ]
    },
    {
      "cell_type": "code",
      "execution_count": null,
      "metadata": {
        "id": "1R_LpWiao9Wb",
        "colab": {
          "base_uri": "https://localhost:8080/",
          "height": 447
        },
        "outputId": "fae1afab-e557-4903-d900-c8d09169a61b"
      },
      "outputs": [
        {
          "output_type": "execute_result",
          "data": {
            "text/plain": [
              "<matplotlib.collections.PathCollection at 0x7b11d6ec4890>"
            ]
          },
          "metadata": {},
          "execution_count": 76
        },
        {
          "output_type": "display_data",
          "data": {
            "text/plain": [
              "<Figure size 640x480 with 1 Axes>"
            ],
            "image/png": "[encoded data removed]"
          },
          "metadata": {}
        }
      ],
      "source": [
        "# torch.autograd.set_detect_anomaly(False)\n",
        "plt.scatter(current_feature_data[:,1].cpu().detach().numpy(), current_feature_data.cpu().detach().numpy()[:,2])\n"
      ]
    },
    {
      "cell_type": "code",
      "execution_count": null,
      "metadata": {
        "id": "mq11Mg7iJz2H"
      },
      "outputs": [],
      "source": [
        "# save the model\n",
        "torch.save(model.state_dict(), 'model.pth')"
      ]
    },
    {
      "cell_type": "code",
      "execution_count": null,
      "metadata": {
        "id": "APiyRY9zUNCV",
        "colab": {
          "base_uri": "https://localhost:8080/"
        },
        "outputId": "6dff00ba-309b-45ec-d18d-f31b976af3fb"
      },
      "outputs": [
        {
          "output_type": "stream",
          "name": "stdout",
          "text": []
        }
      ],
      "source": [
        "# run the nca and get history\n",
        "\n",
        "detach = lambda x: x.cpu().detach().numpy()\n",
        "\n",
        "\n",
        "history = []\n",
        "\n",
        "current_feature_data = feature_data.clone().detach().requires_grad_(True) # Start with the initial features for each epoch\n",
        "\n",
        "for step in range(nca_steps):\n",
        "    print(f\"step {step}\", end = \"\\r\")\n",
        "    delta_output = model(current_feature_data, edge_index)\n",
        "    current_feature_data = nca_update(current_feature_data, delta_output, nca_learning_rate)\n",
        "    edge_index = update_edge_index(current_feature_data[:,1:])\n",
        "    history.append(detach(current_feature_data))\n",
        "\n",
        "\n"
      ]
    },
    {
      "cell_type": "code",
      "execution_count": null,
      "metadata": {
        "id": "THQTi7-qW-dN"
      },
      "outputs": [],
      "source": [
        "# x, y = current_feature_data[:,1], current_feature_data[:,2]\n",
        "\n",
        "# c = torch.tensor([0,0])\n",
        "\n",
        "# current_feature_data[torch.linalg.norm( current_feature_data[:,1:]) < 0.5, 1] += 15.0"
      ]
    },
    {
      "cell_type": "code",
      "execution_count": null,
      "metadata": {
        "id": "iOW4fnhUdmo6"
      },
      "outputs": [],
      "source": [
        "import matplotlib.pyplot as plt\n",
        "import numpy as np"
      ]
    },
    {
      "cell_type": "code",
      "execution_count": null,
      "metadata": {
        "id": "QQvyiJYVdrfy",
        "colab": {
          "base_uri": "https://localhost:8080/",
          "height": 447
        },
        "outputId": "e1f926a0-0f0d-4d4a-903c-b38df88b8b9b"
      },
      "outputs": [
        {
          "output_type": "execute_result",
          "data": {
            "text/plain": [
              "<matplotlib.collections.PathCollection at 0x7b11d6e35160>"
            ]
          },
          "metadata": {},
          "execution_count": 81
        },
        {
          "output_type": "display_data",
          "data": {
            "text/plain": [
              "<Figure size 640x480 with 1 Axes>"
            ],
            "image/png": "[encoded data removed]"
          },
          "metadata": {}
        }
      ],
      "source": [
        "o = detach(delta_output[:,1:])\n",
        "plt.scatter(o[:,0], o[:,1])"
      ]
    },
    {
      "cell_type": "code",
      "execution_count": null,
      "metadata": {
        "id": "Sueu896ldo6c",
        "colab": {
          "base_uri": "https://localhost:8080/",
          "height": 430
        },
        "outputId": "de72df4d-94e0-4865-b228-f56beec4507d"
      },
      "outputs": [
        {
          "output_type": "display_data",
          "data": {
            "text/plain": [
              "<Figure size 640x480 with 2 Axes>"
            ],
            "image/png": "[encoded data removed]"
          },
          "metadata": {}
        }
      ],
      "source": [
        "curdata = history[-1][:,0]\n",
        "curposs = history[-1][:,1:]\n",
        "startdata = history[0][:,0]\n",
        "\n",
        "\n",
        "plt.scatter(curposs[:, 0], curposs[:, 1], c=curdata, cmap='hsv')\n",
        "\n",
        "arrows = [np.cos(curdata), np.sin(curdata)]\n",
        "oldarrows = [np.cos(startdata), np.sin(startdata)]\n",
        "\n",
        "# plt.quiver(curposs[:, 0], curposs[:, 1], oldarrows[0]*0.3, oldarrows[1]*0.3, color='blue', scale=10)\n",
        "# plt.quiver(curposs[:, 0], curposs[:, 1], arrows[0]*0.5, arrows[1]*0.5, color='red', scale=10)\n",
        "plt.colorbar()\n",
        "plt.show()"
      ]
    },
    {
      "cell_type": "code",
      "execution_count": null,
      "metadata": {
        "id": "107260a4"
      },
      "outputs": [],
      "source": [
        "import matplotlib.pyplot as plt\n",
        "import matplotlib.animation as animation\n",
        "from IPython.display import HTML\n",
        "\n",
        "# Assuming 'history' is a list of tensors, where each tensor is the feature data at a step\n",
        "# And assuming the first column of the feature data is the angle and the rest are positions\n",
        "\n",
        "# 100 random colors\n",
        "\n",
        "usehistory = np.array(history[::10])\n",
        "\n",
        "colors = plt.cm.hsv(np.linspace(0, 1, num_agents))\n",
        "x_min = np.min(usehistory[:,:, 0])\n",
        "x_max = np.max(usehistory[:,:, 0])\n",
        "y_min = np.min(usehistory[:,:, 1])\n",
        "y_max = np.max(usehistory[:,:, 1])\n",
        "\n",
        "\n",
        "\n",
        "w, h = x_max - x_min, y_max - y_min\n",
        "max_side = max(w, h)\n",
        "\n",
        "\n",
        "def update(frame_index):\n",
        "    plt.clf()  # Clear the current figure\n",
        "    current_frame = usehistory[frame_index]\n",
        "    current_data = current_frame[:, 0]\n",
        "    current_positions = current_frame[:, 1:]\n",
        "    plt.scatter(current_positions[:, 0], current_positions[:, 1], c=colors, cmap = 'hsv')\n",
        "    plt.quiver(current_positions[:, 0], current_positions[:, 1], np.cos(current_data), np.sin(current_data), color='black', scale=30)\n",
        "    plt.title(f'NCA Step {frame_index}')\n",
        "    # plt.colorbar(label='Angle')\n",
        "\n",
        "\n",
        "    center_of_mass = np.mean(current_positions, axis=0)\n",
        "    # plt.xlim(-5 + center_of_mass[0], 5 + center_of_mass[0])\n",
        "    # plt.ylim(-5 + center_of_mass[1], 5 + center_of_mass[1])\n",
        "\n",
        "\n",
        "    plt.xlim(center_of_mass[0] - max_side/1., center_of_mass[0] + max_side/1.)\n",
        "    plt.ylim(center_of_mass[1] - max_side/1., center_of_mass[1] + max_side/1.)\n",
        "\n",
        "fig = plt.figure(figsize=(7, 7))\n",
        "ani = animation.FuncAnimation(fig, update, frames=len(usehistory), repeat=False)\n",
        "\n",
        "# To display the video inline in the notebook\n",
        "HTML(ani.to_html5_video())\n",
        "\n",
        "# plt.show()"
      ]
    },
    {
      "cell_type": "code",
      "execution_count": null,
      "metadata": {
        "id": "v6hJsnDkXXrS"
      },
      "outputs": [],
      "source": [
        "import matplotlib.pyplot as plt\n",
        "import matplotlib.animation as animation\n",
        "from IPython.display import HTML\n",
        "\n",
        "# Assuming 'history' is a list of tensors, where each tensor is the feature data at a step\n",
        "# And assuming the first column of the feature data is the angle and the rest are positions\n",
        "\n",
        "# 100 random colors\n",
        "\n",
        "usehistory = history[::3]\n",
        "\n",
        "colors = plt.cm.hsv(np.linspace(0, 1, num_agents))\n",
        "\n",
        "def update(frame_index):\n",
        "    plt.clf()  # Clear the current figure\n",
        "    current_frame = usehistory[frame_index]\n",
        "    current_data = current_frame[:, 0]\n",
        "    current_positions = current_frame[:, 1:]\n",
        "    plt.scatter(current_positions[:, 0], current_positions[:, 1], c=colors, cmap = 'hsv')\n",
        "    plt.quiver(current_positions[:, 0], current_positions[:, 1], np.cos(current_data), np.sin(current_data), color='black', scale=30)\n",
        "    plt.title(f'NCA Step {frame_index}')\n",
        "    # plt.colorbar(label='Angle')\n",
        "\n",
        "\n",
        "    center_of_mass = np.mean(current_positions, axis=0)\n",
        "    # plt.xlim(-5 + center_of_mass[0], 5 + center_of_mass[0])\n",
        "    # plt.ylim(-5 + center_of_mass[1], 5 + center_of_mass[1])\n",
        "    x_min = np.min(current_positions[:, 0])\n",
        "    x_max = np.max(current_positions[:, 0])\n",
        "    y_min = np.min(current_positions[:, 1])\n",
        "    y_max = np.max(current_positions[:, 1])\n",
        "\n",
        "\n",
        "    w, h = x_max - x_min, y_max - y_min\n",
        "    max_side = max(w, h)\n",
        "\n",
        "    plt.xlim(center_of_mass[0] - max_side/1.5, center_of_mass[0] + max_side/1.5)\n",
        "    plt.ylim(center_of_mass[1] - max_side/1.5, center_of_mass[1] + max_side/1.5)\n",
        "\n",
        "fig = plt.figure(figsize=(7, 7))\n",
        "ani = animation.FuncAnimation(fig, update, frames=len(usehistory), repeat=False)\n",
        "\n",
        "# To display the video inline in the notebook\n",
        "HTML(ani.to_html5_video())"
      ]
    }
  ],
  "metadata": {
    "colab": {
      "provenance": [],
      "authorship_tag": "ABX9TyMP4bii8wWVTZJCDPgQ9u45",
      "include_colab_link": true
    },
    "kernelspec": {
      "display_name": "Python 3",
      "name": "python3"
    },
    "language_info": {
      "name": "python"
    }
  },
  "nbformat": 4,
  "nbformat_minor": 0
}