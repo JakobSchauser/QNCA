{
  "nbformat": 4,
  "nbformat_minor": 0,
  "metadata": {
    "colab": {
      "provenance": [],
      "authorship_tag": "ABX9TyMgE1MxgGNmZ5i43zDC6epc",
      "include_colab_link": true
    },
    "kernelspec": {
      "name": "python3",
      "display_name": "Python 3"
    },
    "language_info": {
      "name": "python"
    }
  },
  "cells": [
    {
      "cell_type": "markdown",
      "metadata": {
        "id": "view-in-github",
        "colab_type": "text"
      },
      "source": [
        "<a href=\"https://colab.research.google.com/github/JakobSchauser/QNCA/blob/main/QNCA.ipynb\" target=\"_parent\"><img src=\"https://colab.research.google.com/assets/colab-badge.svg\" alt=\"Open In Colab\"/></a>"
      ]
    },
    {
      "cell_type": "code",
      "source": [
        "!pip install torch_geometric\n",
        ""
      ],
      "metadata": {
        "colab": {
          "base_uri": "https://localhost:8080/"
        },
        "id": "qua7HiTG7QnW",
        "outputId": "f7f9b54a-f947-447e-ee0c-427d96c0e7be"
      },
      "execution_count": 30,
      "outputs": [
        {
          "output_type": "stream",
          "name": "stdout",
          "text": [
            "Requirement already satisfied: torch_geometric in /usr/local/lib/python3.11/dist-packages (2.6.1)\n",
            "Requirement already satisfied: aiohttp in /usr/local/lib/python3.11/dist-packages (from torch_geometric) (3.12.15)\n",
            "Requirement already satisfied: fsspec in /usr/local/lib/python3.11/dist-packages (from torch_geometric) (2025.3.0)\n",
            "Requirement already satisfied: jinja2 in /usr/local/lib/python3.11/dist-packages (from torch_geometric) (3.1.6)\n",
            "Requirement already satisfied: numpy in /usr/local/lib/python3.11/dist-packages (from torch_geometric) (2.0.2)\n",
            "Requirement already satisfied: psutil>=5.8.0 in /usr/local/lib/python3.11/dist-packages (from torch_geometric) (5.9.5)\n",
            "Requirement already satisfied: pyparsing in /usr/local/lib/python3.11/dist-packages (from torch_geometric) (3.2.3)\n",
            "Requirement already satisfied: requests in /usr/local/lib/python3.11/dist-packages (from torch_geometric) (2.32.3)\n",
            "Requirement already satisfied: tqdm in /usr/local/lib/python3.11/dist-packages (from torch_geometric) (4.67.1)\n",
            "Requirement already satisfied: aiohappyeyeballs>=2.5.0 in /usr/local/lib/python3.11/dist-packages (from aiohttp->torch_geometric) (2.6.1)\n",
            "Requirement already satisfied: aiosignal>=1.4.0 in /usr/local/lib/python3.11/dist-packages (from aiohttp->torch_geometric) (1.4.0)\n",
            "Requirement already satisfied: attrs>=17.3.0 in /usr/local/lib/python3.11/dist-packages (from aiohttp->torch_geometric) (25.3.0)\n",
            "Requirement already satisfied: frozenlist>=1.1.1 in /usr/local/lib/python3.11/dist-packages (from aiohttp->torch_geometric) (1.7.0)\n",
            "Requirement already satisfied: multidict<7.0,>=4.5 in /usr/local/lib/python3.11/dist-packages (from aiohttp->torch_geometric) (6.6.4)\n",
            "Requirement already satisfied: propcache>=0.2.0 in /usr/local/lib/python3.11/dist-packages (from aiohttp->torch_geometric) (0.3.2)\n",
            "Requirement already satisfied: yarl<2.0,>=1.17.0 in /usr/local/lib/python3.11/dist-packages (from aiohttp->torch_geometric) (1.20.1)\n",
            "Requirement already satisfied: MarkupSafe>=2.0 in /usr/local/lib/python3.11/dist-packages (from jinja2->torch_geometric) (3.0.2)\n",
            "Requirement already satisfied: charset-normalizer<4,>=2 in /usr/local/lib/python3.11/dist-packages (from requests->torch_geometric) (3.4.3)\n",
            "Requirement already satisfied: idna<4,>=2.5 in /usr/local/lib/python3.11/dist-packages (from requests->torch_geometric) (3.10)\n",
            "Requirement already satisfied: urllib3<3,>=1.21.1 in /usr/local/lib/python3.11/dist-packages (from requests->torch_geometric) (2.5.0)\n",
            "Requirement already satisfied: certifi>=2017.4.17 in /usr/local/lib/python3.11/dist-packages (from requests->torch_geometric) (2025.8.3)\n",
            "Requirement already satisfied: typing-extensions>=4.2 in /usr/local/lib/python3.11/dist-packages (from aiosignal>=1.4.0->aiohttp->torch_geometric) (4.14.1)\n"
          ]
        }
      ]
    },
    {
      "cell_type": "code",
      "execution_count": 31,
      "metadata": {
        "id": "wGi3g44g64Km"
      },
      "outputs": [],
      "source": [
        "import torch\n",
        "from torch_geometric.data import Data"
      ]
    },
    {
      "cell_type": "code",
      "source": [
        "from typing import Callable, Optional, Union\n",
        "\n",
        "import torch\n",
        "from torch import Tensor\n",
        "\n",
        "\n",
        "import torch_geometric.typing\n",
        "from typing import Tuple, Union\n",
        "from torch_geometric.nn.conv import MessagePassing\n",
        "from torch_geometric.nn.inits import reset\n",
        "from torch_geometric.utils import scatter\n",
        "\n",
        "from torch_geometric.typing import Adj, OptTensor, PairOptTensor, PairTensor, OptPairTensor, Size\n",
        "import torch.nn as nn\n",
        "from torch.nn import Linear\n",
        "import torch.nn.functional as F\n",
        "\n",
        "import inspect\n",
        "\n",
        "def print2(*msg):\n",
        "    frame = inspect.currentframe().f_back\n",
        "    print(f\"[LINE {frame.f_lineno}]\", *msg)\n",
        "\n",
        "\n",
        "class CustomEdgeConv(MessagePassing):\n",
        "    def __init__(self, in_features, hidden_dim, out_dim=3):\n",
        "        super().__init__(aggr=None)  # no aggregation, we just compute edge outputs\n",
        "        self.mlp = nn.Sequential(\n",
        "            nn.Linear(in_features, hidden_dim),\n",
        "            nn.ReLU(),\n",
        "            nn.Linear(hidden_dim, hidden_dim),\n",
        "            nn.ReLU(),\n",
        "            nn.Linear(hidden_dim, out_dim)\n",
        "        )\n",
        "\n",
        "    def forward(self, x, edge_index):\n",
        "        # # Ensure undirected by sorting (min, max) node indices\n",
        "        # src, dst = edge_index\n",
        "        # undirected_edges = torch.stack([\n",
        "        #     torch.min(src, dst),\n",
        "        #     torch.max(src, dst)\n",
        "        # ], dim=0)\n",
        "\n",
        "        # # Remove duplicate edges\n",
        "        # undirected_edges, unique_idx = torch.unique(undirected_edges, dim=1, return_inverse=True)\n",
        "\n",
        "        # Build edge features: concat(node_u, node_v)\n",
        "        u, v = edge_index\n",
        "        # edge_feat = torch.cat([x[u], x[v]], dim=-1)\n",
        "        edge_feat = (x[u] - x[v])\n",
        "\n",
        "        # Predict 3 features per undirected edge\n",
        "        edge_out = self.mlp(edge_feat)  # [num_undirected_edges, out_dim]\n",
        "\n",
        "        node_out = self.edge_out_to_node_out_avg(edge_out, edge_index)\n",
        "\n",
        "        return node_out # [num_nodes, out_dim]\n",
        "\n",
        "    def edge_out_to_node_out_directional(self, edge_out, edge_index, reduce='sum'):\n",
        "        u, v = edge_index  # u -> v (source -> target)\n",
        "\n",
        "        # Aggregate to target nodes (incoming edges)\n",
        "        node_out = scatter(edge_out, v, dim=0, dim_size=100, reduce=reduce)\n",
        "\n",
        "        return node_out\n",
        "\n",
        "\n",
        "    def edge_out_to_node_out_avg(self, edge_out, edge_index, reduce='sum'):\n",
        "        u, v = edge_index  # u -> v (source -> target)\n",
        "\n",
        "        # Aggregate to target nodes (incoming edges)\n",
        "        node_out1 = scatter(edge_out, u, dim=0, dim_size=100, reduce=reduce)\n",
        "        node_out2 = scatter(edge_out, v, dim=0, dim_size=100, reduce=reduce)\n",
        "\n",
        "        return (node_out1 + node_out2)/2.\n",
        "\n",
        "\n",
        "class CustomGraphConv(MessagePassing):\n",
        "    def __init__(\n",
        "        self,\n",
        "        in_channels: Union[int, Tuple[int, int]],\n",
        "        out_channels: int,\n",
        "        aggr: str = 'add',\n",
        "        bias: bool = True,\n",
        "        **kwargs,\n",
        "    ):\n",
        "        super().__init__(aggr=aggr, **kwargs)\n",
        "\n",
        "        self.in_channels = in_channels\n",
        "        self.out_channels = out_channels\n",
        "\n",
        "        if isinstance(in_channels, int):\n",
        "            in_channels = (in_channels, in_channels)\n",
        "\n",
        "        self.lin_rel = Linear(in_channels[0], out_channels, bias=bias)\n",
        "        self.lin_root = Linear(in_channels[1], out_channels, bias=False)\n",
        "\n",
        "        self.reset_parameters()\n",
        "\n",
        "    def reset_parameters(self):\n",
        "        super().reset_parameters()\n",
        "        self.lin_rel.reset_parameters()\n",
        "        self.lin_root.reset_parameters()\n",
        "\n",
        "\n",
        "    def forward(self, x: Union[Tensor, OptPairTensor], edge_index: Adj,\n",
        "                edge_weight: OptTensor = None, size: Size = None) -> Tensor:\n",
        "\n",
        "        if isinstance(x, Tensor):\n",
        "            x = (x, x)\n",
        "\n",
        "        out_1 = self.propagate(edge_index, x=x, edge_weight=edge_weight,\n",
        "                             size=size)\n",
        "\n",
        "        # print2(out_1.shape)  # [N_cells, 3]\n",
        "\n",
        "        out = self.lin_rel(out_1)\n",
        "\n",
        "        x_r = out_1\n",
        "\n",
        "        assert x_r is not None, \"x_r is None\"\n",
        "        # if x_r is not None:\n",
        "        out = out + self.lin_root(x_r)\n",
        "\n",
        "        return out\n",
        "\n",
        "    def message(self, x_i : Tensor, x_j :Tensor, edge_weight: OptTensor) -> Tensor:\n",
        "\n",
        "        x = (x_j - x_i)\n",
        "        # print2(x.shape) # [N_cells * N_nbs, 3])\n",
        "\n",
        "        return x if edge_weight is None else edge_weight.view(-1, 1) * x\n",
        "\n",
        "    # def aggregate(self, inputs, index, ptr=None, dim_size=None):\n",
        "    #     return inputs, index\n",
        "\n",
        "    # def message_and_aggregate(self, adj_t: Adj, x: OptPairTensor) -> Tensor:\n",
        "    #     return spmm(adj_t, x[0], reduce=self.aggr)\n",
        "\n",
        "\n",
        "class CustomGNN(torch.nn.Module):\n",
        "    def __init__(self, hidden_dims,):\n",
        "        super(CustomGNN, self).__init__()\n",
        "\n",
        "        if type(hidden_dims) is not list:\n",
        "            hidden_dims = [hidden_dims]\n",
        "\n",
        "\n",
        "        # NN = nn.Sequential(nn.Linear(2, 6), nn.ReLU(), nn.Linear(6, 6), nn.ReLU(), nn.Linear(6, hidden_dims[0]))\n",
        "\n",
        "        # convolutional layer\n",
        "        # self.input_layer = CustomEdgeConv(NN)\n",
        "        self.input_layer = CustomGraphConv(3, hidden_dims[0])\n",
        "\n",
        "        self.hidden_layers = torch.nn.ModuleList()\n",
        "        self.activation_func = F.relu\n",
        "\n",
        "        for i in range(len(hidden_dims)-1):\n",
        "            _in = hidden_dims[i]\n",
        "            _out = hidden_dims[i+1]\n",
        "\n",
        "            self.hidden_layers.append(Linear(_in, _out))\n",
        "\n",
        "        self.output_layer = Linear(hidden_dims[-1], 3, bias = True)\n",
        "\n",
        "\n",
        "    def forward(self, feature_data, edge_info):\n",
        "        x = self.input_layer(feature_data, edge_info)\n",
        "\n",
        "\n",
        "        for layer in self.hidden_layers:\n",
        "            x = layer(x)\n",
        "            x = self.activation_func(x)  # Apply activation function to each hidden layer output\n",
        "\n",
        "        x = self.output_layer(x, )\n",
        "\n",
        "        return x\n",
        "\n",
        "hidden_dims = [16, 16, 16]  # Hidden dimensions\n",
        "\n",
        "# Initialize the CustomGNN model\n",
        "# model = CustomGNN(hidden_dims)\n",
        "model = CustomEdgeConv(3, 16, 3)"
      ],
      "metadata": {
        "id": "20r6t8NO753i"
      },
      "execution_count": 32,
      "outputs": []
    },
    {
      "cell_type": "code",
      "source": [
        "import torch\n",
        "from torch_geometric.data import Data\n",
        "# from torch_geometric.nn import knn_graph\n",
        "from torch.nn.functional import pairwise_distance\n",
        "from torch_geometric.utils import to_undirected\n",
        "# Define a grid of agents\n",
        "num_agents = 100\n",
        "grid_size = 10\n",
        "x = torch.linspace(0, grid_size, steps=10)\n",
        "y = torch.linspace(0, grid_size, steps=10)\n",
        "\n",
        "positions = torch.stack(torch.meshgrid(x, y), dim=-1).view(-1, 2)\n",
        "\n",
        "angle_feature_data = 2 * torch.pi * torch.rand(num_agents, 1)\n",
        "\n",
        "print2(angle_feature_data.shape, positions.shape)\n",
        "feature_data = torch.cat([positions[:,0].unsqueeze(1), positions[:,1].unsqueeze(1), angle_feature_data], dim=1)\n",
        "print2(feature_data.shape)\n",
        "\n",
        "\n",
        "# Define the graph using k-NN (manual implementation)\n",
        "\n",
        "\n",
        "def knn_with_cutoff(x, k=8, cutoff=1.0, self_loops=False):\n",
        "    N, D = x.shape\n",
        "\n",
        "    # pairwise squared distances\n",
        "    dist2 = torch.cdist(x, x, p=2) ** 2\n",
        "\n",
        "    # mask self-distances (unless self_loops=True)\n",
        "    if not self_loops:\n",
        "        dist2.fill_diagonal_(float(\"inf\"))\n",
        "\n",
        "    # get k nearest neighbors\n",
        "    dist, idx = torch.topk(dist2, k, largest=False)\n",
        "\n",
        "    # cutoff mask\n",
        "    mask = dist <= cutoff**2\n",
        "\n",
        "    # source nodes (repeat each index k times)\n",
        "    row = torch.arange(N, device=x.device).repeat_interleave(k)\n",
        "    col = idx.reshape(-1)\n",
        "    mask_flat = mask.reshape(-1)\n",
        "\n",
        "    # # apply cutoff mask\n",
        "    row = row[mask_flat]\n",
        "    col = col[mask_flat]\n",
        "\n",
        "    edge_index = torch.stack([row, col], dim=0)\n",
        "\n",
        "    edge_index = to_undirected(edge_index, num_nodes=N)\n",
        "\n",
        "    return edge_index\n",
        "\n",
        "update_edge_index = lambda x: knn_with_cutoff(x, k=7, cutoff=2.0)\n",
        "\n",
        "edge_index = update_edge_index(positions)\n"
      ],
      "metadata": {
        "colab": {
          "base_uri": "https://localhost:8080/"
        },
        "id": "HVlMhM1QEeHt",
        "outputId": "6499d838-9b55-49cc-c58b-7a45425ec747"
      },
      "execution_count": 33,
      "outputs": [
        {
          "output_type": "stream",
          "name": "stdout",
          "text": [
            "[LINE 16] torch.Size([100, 1]) torch.Size([100, 2])\n",
            "[LINE 18] torch.Size([100, 3])\n"
          ]
        }
      ]
    },
    {
      "cell_type": "code",
      "metadata": {
        "colab": {
          "base_uri": "https://localhost:8080/"
        },
        "id": "0de0a93f",
        "outputId": "126b48e8-9c1c-4115-bec9-97bac4700fb6"
      },
      "source": [
        "edge_index.shape"
      ],
      "execution_count": 34,
      "outputs": [
        {
          "output_type": "execute_result",
          "data": {
            "text/plain": [
              "torch.Size([2, 662])"
            ]
          },
          "metadata": {},
          "execution_count": 34
        }
      ]
    },
    {
      "cell_type": "code",
      "source": [
        "(edge_index == 21).sum(axis = 1)"
      ],
      "metadata": {
        "colab": {
          "base_uri": "https://localhost:8080/"
        },
        "id": "3bJih5s8oPjW",
        "outputId": "fb6e3967-fae1-44bc-98ae-b2a8e5623e36"
      },
      "execution_count": 35,
      "outputs": [
        {
          "output_type": "execute_result",
          "data": {
            "text/plain": [
              "tensor([8, 8])"
            ]
          },
          "metadata": {},
          "execution_count": 35
        }
      ]
    },
    {
      "cell_type": "markdown",
      "metadata": {
        "id": "b7f479a7"
      },
      "source": [
        "# Task\n",
        "Create a Python class that trains agents to align their \"feature data\" using a custom GNN with a k-nearest neighbors (KNN) graph, allowing for the use of different KNN implementations."
      ]
    },
    {
      "cell_type": "code",
      "source": [
        "input_features = 3\n",
        "model = CustomEdgeConv(input_features, 16)\n",
        "x = torch.randn(num_agents, input_features)  # node embeddings\n",
        "\n",
        "out = model(x, edge_index)"
      ],
      "metadata": {
        "id": "ctE3KyaUabz8"
      },
      "execution_count": 36,
      "outputs": []
    },
    {
      "cell_type": "code",
      "source": [
        "out.shape"
      ],
      "metadata": {
        "colab": {
          "base_uri": "https://localhost:8080/"
        },
        "id": "oZhMz93obETY",
        "outputId": "d1ab48c2-3837-487a-c15f-6fd731607067"
      },
      "execution_count": 37,
      "outputs": [
        {
          "output_type": "execute_result",
          "data": {
            "text/plain": [
              "torch.Size([100, 3])"
            ]
          },
          "metadata": {},
          "execution_count": 37
        }
      ]
    },
    {
      "cell_type": "code",
      "source": [
        "edge_index.shape"
      ],
      "metadata": {
        "colab": {
          "base_uri": "https://localhost:8080/"
        },
        "id": "3XcfrK8raqyF",
        "outputId": "2a4dfca0-296b-4100-cf67-a9939998d492"
      },
      "execution_count": 38,
      "outputs": [
        {
          "output_type": "execute_result",
          "data": {
            "text/plain": [
              "torch.Size([2, 662])"
            ]
          },
          "metadata": {},
          "execution_count": 38
        }
      ]
    },
    {
      "cell_type": "code",
      "metadata": {
        "id": "5705b41b"
      },
      "source": [
        "def alignment_loss(output, edge_index):\n",
        "    # Extract source and target node features\n",
        "    source_nodes = edge_index[0]\n",
        "    target_nodes = edge_index[1]\n",
        "    source_features = output[source_nodes]\n",
        "    target_features = output[target_nodes]\n",
        "\n",
        "    # print2(target_features.shape) # shape [ncells * n_nbs, n_features]\n",
        "    # Calculate mean squared error between connected nodes\n",
        "    loss = F.mse_loss(source_features[:,0], target_features[:,0])\n",
        "    return loss\n",
        "\n",
        "\n",
        "def width_loss(output, edge_index):\n",
        "    # Extract source and target node features\n",
        "    source_nodes = edge_index[0]\n",
        "    target_nodes = edge_index[1]\n",
        "    source_features = output[source_nodes]\n",
        "    target_features = output[target_nodes]\n",
        "\n",
        "    maxx = torch.max(source_features[:,1])\n",
        "    minx = torch.min(source_features[:,1])\n",
        "    # print2(target_features.shape) # shape [ncells * n_nbs, n_features]\n",
        "    # Calculate mean squared error between connected nodes\n",
        "    loss = maxx - minx\n",
        "    return -loss\n",
        "\n",
        "\n",
        "\n",
        "def height_loss(output, edge_index):\n",
        "    # Extract source and target node features\n",
        "    source_nodes = edge_index[0]\n",
        "    target_nodes = edge_index[1]\n",
        "    source_features = output[source_nodes]\n",
        "    target_features = output[target_nodes]\n",
        "\n",
        "    maxy = torch.max(source_features[:,2])\n",
        "    miny = torch.min(source_features[:,2])\n",
        "    # print2(target_features.shape) # shape [ncells * n_nbs, n_features]\n",
        "    # Calculate mean squared error between connected nodes\n",
        "    loss = maxy - miny\n",
        "    return loss\n",
        "\n",
        "\n",
        "def dist_loss(output, edge_index):\n",
        "    # Extract source and target node features\n",
        "    source_nodes = edge_index[0]\n",
        "    target_nodes = edge_index[1]\n",
        "    source_features = output[source_nodes]\n",
        "    target_features = output[target_nodes]\n",
        "\n",
        "    source_positions = source_features[:,1:]\n",
        "    target_positions = target_features[:,1:]\n",
        "\n",
        "    dists = torch.linalg.norm(source_positions - target_positions, dim=1)\n",
        "\n",
        "\n",
        "    # adists = torch.where(dists > 1., 1., dists)\n",
        "\n",
        "    loss = -torch.sum(dists)\n",
        "\n",
        "    return loss\n",
        "\n",
        "\n",
        "def get_slice_area(a, b, theta):\n",
        "    assert all(theta != torch.pi), \"No right angles, please\"\n",
        "\n",
        "    h = b*torch.sin(theta)\n",
        "\n",
        "    denom = (a-b/(torch.cos(theta) + 1e-10))\n",
        "    assert not torch.isnan(denom).any(), \"NaNs in denom\"\n",
        "\n",
        "    k = (a-b*torch.cos(theta))/ (denom + 1e-10)\n",
        "\n",
        "    A = 1/2*h*(b*torch.sin(theta)  + h*torch.tan(theta) - k*k)\n",
        "\n",
        "    assert not torch.isnan(A).any(), \"NaNs in A\"\n",
        "    return A\n",
        "\n",
        "\n",
        "def subtract_two_angles(angle1, angle2):\n",
        "    return (angle1 - angle2 + torch.pi) % (2 * torch.pi) - torch.pi\n",
        "\n",
        "def area_loss(output, edge_index):\n",
        "    # Extract source and target node features\n",
        "    source_nodes = edge_index[0]\n",
        "    target_nodes = edge_index[1]\n",
        "    source_features = output[source_nodes]\n",
        "    target_features = output[target_nodes]\n",
        "\n",
        "    positions    = source_features[:,1:]\n",
        "\n",
        "    nb_positions = target_features[:,1:]\n",
        "\n",
        "    # any nans?\n",
        "    assert not torch.isnan(positions).any(), \"NaNs in positions\"\n",
        "    assert not torch.isnan(nb_positions).any(), \"NaNs in nb_positions\"\n",
        "\n",
        "    midpoints = (positions + nb_positions) / 2.\n",
        "\n",
        "\n",
        "    local_midpoints = midpoints - positions\n",
        "\n",
        "    # any_nans?\n",
        "    assert not torch.isnan(local_midpoints).any(), \"NaNs in local_midpoints\"\n",
        "\n",
        "    dists = torch.linalg.norm(local_midpoints, dim=1)\n",
        "\n",
        "    angles = torch.atan2(local_midpoints[:,1], local_midpoints[:,0])\n",
        "\n",
        "\n",
        "    dists_reshaped = dists.view(7,100)\n",
        "    angles_reshaped = angles.view(7,100)\n",
        "\n",
        "    # any nans?\n",
        "    assert not torch.isnan(dists_reshaped).any(), \"NaNs in dists\"\n",
        "    assert not torch.isnan(angles_reshaped).any(), \"NaNs in angles\"\n",
        "\n",
        "    slice_area0 = get_slice_area(dists_reshaped[0], dists_reshaped[1], subtract_two_angles(angles_reshaped[1], angles_reshaped[0]))\n",
        "    slice_area1 = get_slice_area(dists_reshaped[1], dists_reshaped[2], subtract_two_angles(angles_reshaped[2], angles_reshaped[1]))\n",
        "    slice_area2 = get_slice_area(dists_reshaped[2], dists_reshaped[3], subtract_two_angles(angles_reshaped[3], angles_reshaped[2]))\n",
        "    slice_area3 = get_slice_area(dists_reshaped[3], dists_reshaped[4], subtract_two_angles(angles_reshaped[4], angles_reshaped[3]))\n",
        "    slice_area4 = get_slice_area(dists_reshaped[4], dists_reshaped[5], subtract_two_angles(angles_reshaped[5], angles_reshaped[4]))\n",
        "    slice_area5 = get_slice_area(dists_reshaped[5], dists_reshaped[6], subtract_two_angles(angles_reshaped[6], angles_reshaped[5]))\n",
        "    slice_area6 = get_slice_area(dists_reshaped[6], dists_reshaped[0], subtract_two_angles(angles_reshaped[0], angles_reshaped[6]))\n",
        "\n",
        "    slice_areas = torch.stack([slice_area0, slice_area1, slice_area2, slice_area3, slice_area4, slice_area5, slice_area6], dim=1)\n",
        "    areas = torch.sum(slice_areas, dim=1)\n",
        "\n",
        "    # any nan?\n",
        "    assert not torch.isnan(areas).any(), \"NaNs in areas\"\n",
        "\n",
        "    loss = -torch.mean(areas)\n",
        "\n",
        "    # any nans?\n",
        "    assert not torch.isnan(loss).any(), \"NaNs in loss\"\n",
        "\n",
        "    return loss\n",
        "    # print2(dists.shape)\n",
        "\n",
        "\n",
        "\n",
        "\n",
        "\n",
        "\n"
      ],
      "execution_count": 39,
      "outputs": []
    },
    {
      "cell_type": "code",
      "metadata": {
        "id": "34cf26f9"
      },
      "source": [
        "from torch import optim\n",
        "\n",
        "optimizer = optim.Adam(model.parameters(), lr=0.001)"
      ],
      "execution_count": 40,
      "outputs": []
    },
    {
      "cell_type": "markdown",
      "metadata": {
        "id": "ba13d774"
      },
      "source": [
        "## Implement the nca update rule\n",
        "\n",
        "### Subtask:\n",
        "Define a function that updates the agent's features based on the model's delta output and potentially a learning rate or other update parameters.\n"
      ]
    },
    {
      "cell_type": "code",
      "metadata": {
        "id": "f71151c5"
      },
      "source": [
        "def nca_update(feature_data, delta_output, learning_rate):\n",
        "    \"\"\"\n",
        "    Updates agent features based on the model's delta output using NCA rules.\n",
        "\n",
        "    Args:\n",
        "        feature_data (torch.Tensor): The current feature data of the agents.\n",
        "        delta_output (torch.Tensor): The delta output from the CustomGNN model.\n",
        "        learning_rate (float): The learning rate for updating features.\n",
        "\n",
        "    Returns:\n",
        "        torch.Tensor: The updated feature data, wrapped to [0, 2*pi].\n",
        "    \"\"\"\n",
        "    updated_feature_data = feature_data + delta_output * learning_rate\n",
        "    # Wrap the feature data to be within [0, 2*pi]\n",
        "    updated_feature_data[:,0] = updated_feature_data[:,0] % (2. * torch.pi)\n",
        "\n",
        "    return updated_feature_data\n",
        "\n",
        "def nca_update_angles(feature_data, delta_output, learning_rate):\n",
        "    \"\"\"\n",
        "    Updates agent features based on the model's delta output using NCA rules.\n",
        "\n",
        "    Args:\n",
        "        feature_data (torch.Tensor): The current feature data of the agents.\n",
        "        delta_output (torch.Tensor): The delta output from the CustomGNN model.\n",
        "        learning_rate (float): The learning rate for updating features.\n",
        "\n",
        "    Returns:\n",
        "        torch.Tensor: The updated feature data, wrapped to [0, 2*pi].\n",
        "    \"\"\"\n",
        "\n",
        "    delta_output[:,1:] = 0.\n",
        "\n",
        "    updated_feature_data = feature_data + delta_output * learning_rate\n",
        "    # Wrap the feature data to be within [0, 2*pi]\n",
        "\n",
        "    updated_feature_data[:,0] = updated_feature_data[:,0] % (2. * torch.pi)\n",
        "    return updated_feature_data"
      ],
      "execution_count": 41,
      "outputs": []
    },
    {
      "cell_type": "markdown",
      "metadata": {
        "id": "317ca089"
      },
      "source": [
        "## Modify the training loop for nca\n",
        "\n",
        "### Subtask:\n",
        "Create a training loop that simulates multiple NCA steps within each epoch. In each epoch, perform several forward passes of the GNN, apply the update rule, and calculate the loss based on the alignment of features *after* these update steps.\n"
      ]
    },
    {
      "cell_type": "markdown",
      "metadata": {
        "id": "b2f0054a"
      },
      "source": [
        "**Reasoning**:\n",
        "Implement the training loop with multiple NCA steps per epoch as described in the instructions.\n",
        "\n"
      ]
    },
    {
      "cell_type": "code",
      "source": [
        "# delta_output = model(current_feature_data, edge_index)\n"
      ],
      "metadata": {
        "id": "_DXjI11sbdii"
      },
      "execution_count": 42,
      "outputs": []
    },
    {
      "cell_type": "code",
      "metadata": {
        "colab": {
          "base_uri": "https://localhost:8080/",
          "height": 1000
        },
        "id": "d202b715",
        "outputId": "bb447c9e-28f9-4755-f920-89473fe0e305"
      },
      "source": [
        "nca_steps = 50  # Number of NCA steps per epoch\n",
        "nca_learning_rate = 0.01 # Learning rate for the NCA update\n",
        "\n",
        "num_epochs = 1000\n",
        "\n",
        "\n",
        "for epoch in range(num_epochs):\n",
        "    model.train()\n",
        "    optimizer.zero_grad()\n",
        "\n",
        "    current_feature_data = feature_data.clone().detach().requires_grad_(True) # Start with the initial features for each epoch\n",
        "\n",
        "    for step in range(nca_steps):\n",
        "        delta_output = model(current_feature_data, edge_index)\n",
        "        # any nans\n",
        "        assert not torch.isnan(delta_output).any(), \"NaNs in delta_output\"\n",
        "        # print2(delta_output.shape)\n",
        "        current_feature_data = nca_update(current_feature_data, delta_output, nca_learning_rate)\n",
        "        edge_index = update_edge_index(current_feature_data[:,1:])\n",
        "    # Calculate loss after all NCA steps\n",
        "    # loss = alignment_loss(current_feature_data, edge_index)\n",
        "    loss = width_loss(current_feature_data, edge_index) + dist_loss(current_feature_data, edge_index)*10.\n",
        "    # loss = height_loss(current_feature_data, edge_index) + area_loss(current_feature_data, edge_index)\n",
        "\n",
        "    loss.backward()\n",
        "\n",
        "    # any nans in gradients?\n",
        "    assert not torch.isnan(loss).any(), \"NaNs in loss\"\n",
        "    # assert not torch.isnan(current_feature_data.grad).any(), \"NaNs in current_feature_data.grad\"\n",
        "\n",
        "    optimizer.step()\n",
        "\n",
        "    if (epoch + 1) % 10 == 0:\n",
        "        print(f'Epoch [{epoch+1}/{num_epochs}], Loss: {loss.item():.4f}')\n"
      ],
      "execution_count": 43,
      "outputs": [
        {
          "output_type": "stream",
          "name": "stdout",
          "text": [
            "Epoch [10/2000], Loss: -8216.4180\n",
            "Epoch [20/2000], Loss: -8340.6328\n",
            "Epoch [30/2000], Loss: -8253.1611\n",
            "Epoch [40/2000], Loss: -8252.0137\n",
            "Epoch [50/2000], Loss: -8288.3281\n",
            "Epoch [60/2000], Loss: -8125.3555\n",
            "Epoch [70/2000], Loss: -8523.9482\n",
            "Epoch [80/2000], Loss: -8120.9575\n",
            "Epoch [90/2000], Loss: -7986.9414\n",
            "Epoch [100/2000], Loss: -8357.0371\n",
            "Epoch [110/2000], Loss: -8215.5898\n",
            "Epoch [120/2000], Loss: -7968.6255\n",
            "Epoch [130/2000], Loss: -7917.2212\n",
            "Epoch [140/2000], Loss: -7478.3042\n",
            "Epoch [150/2000], Loss: -7303.7549\n",
            "Epoch [160/2000], Loss: -6840.5000\n",
            "Epoch [170/2000], Loss: -6959.9727\n",
            "Epoch [180/2000], Loss: -6676.3394\n",
            "Epoch [190/2000], Loss: -6199.3359\n",
            "Epoch [200/2000], Loss: -5785.3628\n",
            "Epoch [210/2000], Loss: -5855.3345\n",
            "Epoch [220/2000], Loss: -5511.2959\n",
            "Epoch [230/2000], Loss: -5062.9644\n",
            "Epoch [240/2000], Loss: -3861.0266\n",
            "Epoch [250/2000], Loss: -4054.5247\n",
            "Epoch [260/2000], Loss: -3677.3311\n",
            "Epoch [270/2000], Loss: -3462.6528\n",
            "Epoch [280/2000], Loss: -3748.2383\n",
            "Epoch [290/2000], Loss: -3558.7852\n",
            "Epoch [300/2000], Loss: -3447.4485\n",
            "Epoch [310/2000], Loss: -3310.3721\n",
            "Epoch [320/2000], Loss: -3371.2043\n",
            "Epoch [330/2000], Loss: -3109.9419\n",
            "Epoch [340/2000], Loss: -3455.7529\n",
            "Epoch [350/2000], Loss: -2700.7915\n",
            "Epoch [360/2000], Loss: -2803.2361\n",
            "Epoch [370/2000], Loss: -3271.2390\n",
            "Epoch [380/2000], Loss: -2320.1987\n",
            "Epoch [390/2000], Loss: -2648.1079\n",
            "Epoch [400/2000], Loss: -2898.8127\n",
            "Epoch [410/2000], Loss: -2689.6458\n",
            "Epoch [420/2000], Loss: -2710.4585\n",
            "Epoch [430/2000], Loss: -2512.9592\n",
            "Epoch [440/2000], Loss: -2504.0520\n",
            "Epoch [450/2000], Loss: -3074.7087\n",
            "Epoch [460/2000], Loss: -2006.7170\n",
            "Epoch [470/2000], Loss: -2446.7290\n",
            "Epoch [480/2000], Loss: -2364.8650\n",
            "Epoch [490/2000], Loss: -2314.0085\n",
            "Epoch [500/2000], Loss: -2108.6921\n",
            "Epoch [510/2000], Loss: -2144.9453\n",
            "Epoch [520/2000], Loss: -2312.5222\n",
            "Epoch [530/2000], Loss: -1733.4490\n",
            "Epoch [540/2000], Loss: -2122.9846\n",
            "Epoch [550/2000], Loss: -1910.3243\n",
            "Epoch [560/2000], Loss: -2519.2959\n",
            "Epoch [570/2000], Loss: -1927.4886\n",
            "Epoch [580/2000], Loss: -2028.1499\n",
            "Epoch [590/2000], Loss: -1827.0043\n",
            "Epoch [600/2000], Loss: -2242.8462\n",
            "Epoch [610/2000], Loss: -1615.3538\n",
            "Epoch [620/2000], Loss: -1325.7053\n",
            "Epoch [630/2000], Loss: -1923.8262\n",
            "Epoch [640/2000], Loss: -1434.8584\n",
            "Epoch [650/2000], Loss: -1698.5562\n",
            "Epoch [660/2000], Loss: -1736.9995\n",
            "Epoch [670/2000], Loss: -1639.7861\n",
            "Epoch [680/2000], Loss: -1930.7969\n",
            "Epoch [690/2000], Loss: -1822.2457\n",
            "Epoch [700/2000], Loss: -1672.8363\n",
            "Epoch [710/2000], Loss: -1986.7836\n",
            "Epoch [720/2000], Loss: -1453.1228\n",
            "Epoch [730/2000], Loss: -2049.5061\n",
            "Epoch [740/2000], Loss: -1769.6395\n",
            "Epoch [750/2000], Loss: -1859.5873\n",
            "Epoch [760/2000], Loss: -1649.9119\n",
            "Epoch [770/2000], Loss: -1810.6217\n",
            "Epoch [780/2000], Loss: -1525.5884\n",
            "Epoch [790/2000], Loss: -1834.3595\n",
            "Epoch [800/2000], Loss: -1642.3136\n",
            "Epoch [810/2000], Loss: -1610.3103\n",
            "Epoch [820/2000], Loss: -1743.4506\n",
            "Epoch [830/2000], Loss: -1702.6193\n",
            "Epoch [840/2000], Loss: -1788.9918\n",
            "Epoch [850/2000], Loss: -1885.7529\n",
            "Epoch [860/2000], Loss: -1410.0143\n",
            "Epoch [870/2000], Loss: -1666.7765\n",
            "Epoch [880/2000], Loss: -1865.9077\n",
            "Epoch [890/2000], Loss: -1857.5520\n",
            "Epoch [900/2000], Loss: -1408.8323\n",
            "Epoch [910/2000], Loss: -1798.9037\n",
            "Epoch [920/2000], Loss: -1155.8566\n",
            "Epoch [930/2000], Loss: -1239.8696\n",
            "Epoch [940/2000], Loss: -1069.8319\n",
            "Epoch [950/2000], Loss: -1742.6700\n",
            "Epoch [960/2000], Loss: -1594.5902\n",
            "Epoch [970/2000], Loss: -1405.6868\n",
            "Epoch [980/2000], Loss: -1059.4851\n",
            "Epoch [990/2000], Loss: -1295.0277\n",
            "Epoch [1000/2000], Loss: -1539.4889\n",
            "Epoch [1010/2000], Loss: -1147.7781\n",
            "Epoch [1020/2000], Loss: -1580.7299\n",
            "Epoch [1030/2000], Loss: -1255.6077\n",
            "Epoch [1040/2000], Loss: -1408.2694\n",
            "Epoch [1050/2000], Loss: -1403.0371\n",
            "Epoch [1060/2000], Loss: -1387.4117\n",
            "Epoch [1070/2000], Loss: -1146.9061\n",
            "Epoch [1080/2000], Loss: -1613.6423\n",
            "Epoch [1090/2000], Loss: -1122.6720\n",
            "Epoch [1100/2000], Loss: -1017.2659\n",
            "Epoch [1110/2000], Loss: -1381.1859\n",
            "Epoch [1120/2000], Loss: -1152.3895\n"
          ]
        },
        {
          "output_type": "error",
          "ename": "KeyboardInterrupt",
          "evalue": "",
          "traceback": [
            "\u001b[0;31m---------------------------------------------------------------------------\u001b[0m",
            "\u001b[0;31mKeyboardInterrupt\u001b[0m                         Traceback (most recent call last)",
            "\u001b[0;32m/tmp/ipython-input-1303424210.py\u001b[0m in \u001b[0;36m<cell line: 0>\u001b[0;34m()\u001b[0m\n\u001b[1;32m     23\u001b[0m     \u001b[0;31m# loss = height_loss(current_feature_data, edge_index) + area_loss(current_feature_data, edge_index)\u001b[0m\u001b[0;34m\u001b[0m\u001b[0;34m\u001b[0m\u001b[0m\n\u001b[1;32m     24\u001b[0m \u001b[0;34m\u001b[0m\u001b[0m\n\u001b[0;32m---> 25\u001b[0;31m     \u001b[0mloss\u001b[0m\u001b[0;34m.\u001b[0m\u001b[0mbackward\u001b[0m\u001b[0;34m(\u001b[0m\u001b[0;34m)\u001b[0m\u001b[0;34m\u001b[0m\u001b[0;34m\u001b[0m\u001b[0m\n\u001b[0m\u001b[1;32m     26\u001b[0m \u001b[0;34m\u001b[0m\u001b[0m\n\u001b[1;32m     27\u001b[0m     \u001b[0;31m# any nans in gradients?\u001b[0m\u001b[0;34m\u001b[0m\u001b[0;34m\u001b[0m\u001b[0m\n",
            "\u001b[0;32m/usr/local/lib/python3.11/dist-packages/torch/_tensor.py\u001b[0m in \u001b[0;36mbackward\u001b[0;34m(self, gradient, retain_graph, create_graph, inputs)\u001b[0m\n\u001b[1;32m    624\u001b[0m                 \u001b[0minputs\u001b[0m\u001b[0;34m=\u001b[0m\u001b[0minputs\u001b[0m\u001b[0;34m,\u001b[0m\u001b[0;34m\u001b[0m\u001b[0;34m\u001b[0m\u001b[0m\n\u001b[1;32m    625\u001b[0m             )\n\u001b[0;32m--> 626\u001b[0;31m         torch.autograd.backward(\n\u001b[0m\u001b[1;32m    627\u001b[0m             \u001b[0mself\u001b[0m\u001b[0;34m,\u001b[0m \u001b[0mgradient\u001b[0m\u001b[0;34m,\u001b[0m \u001b[0mretain_graph\u001b[0m\u001b[0;34m,\u001b[0m \u001b[0mcreate_graph\u001b[0m\u001b[0;34m,\u001b[0m \u001b[0minputs\u001b[0m\u001b[0;34m=\u001b[0m\u001b[0minputs\u001b[0m\u001b[0;34m\u001b[0m\u001b[0;34m\u001b[0m\u001b[0m\n\u001b[1;32m    628\u001b[0m         )\n",
            "\u001b[0;32m/usr/local/lib/python3.11/dist-packages/torch/autograd/__init__.py\u001b[0m in \u001b[0;36mbackward\u001b[0;34m(tensors, grad_tensors, retain_graph, create_graph, grad_variables, inputs)\u001b[0m\n\u001b[1;32m    345\u001b[0m     \u001b[0;31m# some Python versions print out the first line of a multi-line function\u001b[0m\u001b[0;34m\u001b[0m\u001b[0;34m\u001b[0m\u001b[0m\n\u001b[1;32m    346\u001b[0m     \u001b[0;31m# calls in the traceback and some print out the last line\u001b[0m\u001b[0;34m\u001b[0m\u001b[0;34m\u001b[0m\u001b[0m\n\u001b[0;32m--> 347\u001b[0;31m     _engine_run_backward(\n\u001b[0m\u001b[1;32m    348\u001b[0m         \u001b[0mtensors\u001b[0m\u001b[0;34m,\u001b[0m\u001b[0;34m\u001b[0m\u001b[0;34m\u001b[0m\u001b[0m\n\u001b[1;32m    349\u001b[0m         \u001b[0mgrad_tensors_\u001b[0m\u001b[0;34m,\u001b[0m\u001b[0;34m\u001b[0m\u001b[0;34m\u001b[0m\u001b[0m\n",
            "\u001b[0;32m/usr/local/lib/python3.11/dist-packages/torch/autograd/graph.py\u001b[0m in \u001b[0;36m_engine_run_backward\u001b[0;34m(t_outputs, *args, **kwargs)\u001b[0m\n\u001b[1;32m    821\u001b[0m         \u001b[0munregister_hooks\u001b[0m \u001b[0;34m=\u001b[0m \u001b[0m_register_logging_hooks_on_whole_graph\u001b[0m\u001b[0;34m(\u001b[0m\u001b[0mt_outputs\u001b[0m\u001b[0;34m)\u001b[0m\u001b[0;34m\u001b[0m\u001b[0;34m\u001b[0m\u001b[0m\n\u001b[1;32m    822\u001b[0m     \u001b[0;32mtry\u001b[0m\u001b[0;34m:\u001b[0m\u001b[0;34m\u001b[0m\u001b[0;34m\u001b[0m\u001b[0m\n\u001b[0;32m--> 823\u001b[0;31m         return Variable._execution_engine.run_backward(  # Calls into the C++ engine to run the backward pass\n\u001b[0m\u001b[1;32m    824\u001b[0m             \u001b[0mt_outputs\u001b[0m\u001b[0;34m,\u001b[0m \u001b[0;34m*\u001b[0m\u001b[0margs\u001b[0m\u001b[0;34m,\u001b[0m \u001b[0;34m**\u001b[0m\u001b[0mkwargs\u001b[0m\u001b[0;34m\u001b[0m\u001b[0;34m\u001b[0m\u001b[0m\n\u001b[1;32m    825\u001b[0m         )  # Calls into the C++ engine to run the backward pass\n",
            "\u001b[0;31mKeyboardInterrupt\u001b[0m: "
          ]
        }
      ]
    },
    {
      "cell_type": "code",
      "source": [
        "# run the nca and get history\n",
        "\n",
        "history = []\n",
        "\n",
        "current_feature_data = feature_data.clone().detach().requires_grad_(True) # Start with the initial features for each epoch\n",
        "\n",
        "for step in range(nca_steps):\n",
        "    delta_output = model(current_feature_data, edge_index)\n",
        "    current_feature_data = nca_update(current_feature_data, delta_output, nca_learning_rate)\n",
        "    edge_index = update_edge_index(current_feature_data[:,1:])\n",
        "    history.append(current_feature_data.clone().detach().numpy())\n",
        "\n"
      ],
      "metadata": {
        "id": "APiyRY9zUNCV"
      },
      "execution_count": 44,
      "outputs": []
    },
    {
      "cell_type": "code",
      "source": [
        "import matplotlib.pyplot as plt\n",
        "import numpy as np"
      ],
      "metadata": {
        "id": "iOW4fnhUdmo6"
      },
      "execution_count": 45,
      "outputs": []
    },
    {
      "cell_type": "code",
      "source": [
        "feature_data.shape, positions.shape"
      ],
      "metadata": {
        "colab": {
          "base_uri": "https://localhost:8080/"
        },
        "id": "QQvyiJYVdrfy",
        "outputId": "ec367b22-ad64-48c9-880c-11c100914c66"
      },
      "execution_count": 46,
      "outputs": [
        {
          "output_type": "execute_result",
          "data": {
            "text/plain": [
              "(torch.Size([100, 3]), torch.Size([100, 2]))"
            ]
          },
          "metadata": {},
          "execution_count": 46
        }
      ]
    },
    {
      "cell_type": "code",
      "source": [],
      "metadata": {
        "id": "ZD2L1UIjmzO3"
      },
      "execution_count": 46,
      "outputs": []
    },
    {
      "cell_type": "code",
      "source": [
        "curdata = history[-1][:,0]\n",
        "curposs = history[-1][:,1:]\n",
        "startdata = history[0][:,0]\n",
        "\n",
        "\n",
        "plt.scatter(curposs[:, 0], curposs[:, 1], c=curdata, cmap='viridis')\n",
        "\n",
        "arrows = [np.cos(curdata), np.sin(curdata)]\n",
        "oldarrows = [np.cos(startdata), np.sin(startdata)]\n",
        "\n",
        "# plt.quiver(curposs[:, 0], curposs[:, 1], oldarrows[0]*0.3, oldarrows[1]*0.3, color='blue', scale=10)\n",
        "# plt.quiver(curposs[:, 0], curposs[:, 1], arrows[0]*0.5, arrows[1]*0.5, color='red', scale=10)\n",
        "plt.colorbar()\n",
        "plt.show()"
      ],
      "metadata": {
        "colab": {
          "base_uri": "https://localhost:8080/",
          "height": 430
        },
        "id": "Sueu896ldo6c",
        "outputId": "7861364f-92b3-4b69-e996-d2513dddacf1"
      },
      "execution_count": 47,
      "outputs": [
        {
          "output_type": "display_data",
          "data": {
            "text/plain": [
              "<Figure size 640x480 with 2 Axes>"
            ],
            "image/png": "[encoded data removed]"
          },
          "metadata": {}
        }
      ]
    },
    {
      "cell_type": "code",
      "source": [],
      "metadata": {
        "id": "CYcqourngIij"
      },
      "execution_count": 47,
      "outputs": []
    },
    {
      "cell_type": "code",
      "metadata": {
        "id": "107260a4"
      },
      "source": [
        "import matplotlib.pyplot as plt\n",
        "import matplotlib.animation as animation\n",
        "from IPython.display import HTML\n",
        "\n",
        "# Assuming 'history' is a list of tensors, where each tensor is the feature data at a step\n",
        "# And assuming the first column of the feature data is the angle and the rest are positions\n",
        "\n",
        "# 100 random colors\n",
        "colors = plt.cm.hsv(np.linspace(0, 1, 100))\n",
        "\n",
        "def update(frame_index):\n",
        "    plt.clf()  # Clear the current figure\n",
        "    current_frame = history[frame_index]\n",
        "    current_data = current_frame[:, 0]\n",
        "    current_positions = current_frame[:, 1:]\n",
        "    plt.scatter(current_positions[:, 0], current_positions[:, 1], c=colors, cmap='hsv')\n",
        "    plt.title(f'NCA Step {frame_index}')\n",
        "    plt.colorbar(label='Angle')\n",
        "\n",
        "\n",
        "    center_of_mass = np.mean(current_positions, axis=0)\n",
        "    # plt.xlim(-5 + center_of_mass[0], 5 + center_of_mass[0])\n",
        "    # plt.ylim(-5 + center_of_mass[1], 5 + center_of_mass[1])\n",
        "    x_min = np.min(current_positions[:, 0])\n",
        "    x_max = np.max(current_positions[:, 0])\n",
        "    y_min = np.min(current_positions[:, 1])\n",
        "    y_max = np.max(current_positions[:, 1])\n",
        "\n",
        "    w, h = x_max - x_min, y_max - y_min\n",
        "    max_side = max(w, h)\n",
        "\n",
        "    plt.xlim(center_of_mass[0] - max_side/2, center_of_mass[0] + max_side/2)\n",
        "    plt.ylim(center_of_mass[1] - max_side/2, center_of_mass[1] + max_side/2)\n",
        "\n",
        "fig = plt.figure(figsize=(7, 7))\n",
        "ani = animation.FuncAnimation(fig, update, frames=len(history), repeat=False)\n",
        "\n",
        "# To display the video inline in the notebook\n",
        "HTML(ani.to_html5_video())"
      ],
      "execution_count": null,
      "outputs": []
    },
    {
      "cell_type": "code",
      "source": [],
      "metadata": {
        "id": "v6hJsnDkXXrS"
      },
      "execution_count": null,
      "outputs": []
    }
  ]
}